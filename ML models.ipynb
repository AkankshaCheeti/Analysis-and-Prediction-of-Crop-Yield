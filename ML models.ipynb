{
 "cells": [
  {
   "cell_type": "code",
   "execution_count": 855,
   "id": "867288c2",
   "metadata": {},
   "outputs": [],
   "source": [
    "import numpy as np;\n",
    "import pandas as pd;\n",
    "import matplotlib.pyplot as plt;\n",
    "import seaborn as sb;\n",
    "from  sklearn import linear_model\n",
    "import seaborn as sns\n",
    "from sklearn.model_selection import train_test_split"
   ]
  },
  {
   "cell_type": "code",
   "execution_count": 760,
   "id": "cf5dbba8",
   "metadata": {},
   "outputs": [],
   "source": [
    "dataframe=pd.read_csv('E:\\MS CS spring 2022\\CS 57300\\project\\yield.csv')"
   ]
  },
  {
   "cell_type": "code",
   "execution_count": 761,
   "id": "692a5408",
   "metadata": {},
   "outputs": [
    {
     "data": {
      "text/html": [
       "<div>\n",
       "<style scoped>\n",
       "    .dataframe tbody tr th:only-of-type {\n",
       "        vertical-align: middle;\n",
       "    }\n",
       "\n",
       "    .dataframe tbody tr th {\n",
       "        vertical-align: top;\n",
       "    }\n",
       "\n",
       "    .dataframe thead th {\n",
       "        text-align: right;\n",
       "    }\n",
       "</style>\n",
       "<table border=\"1\" class=\"dataframe\">\n",
       "  <thead>\n",
       "    <tr style=\"text-align: right;\">\n",
       "      <th></th>\n",
       "      <th>Domain Code</th>\n",
       "      <th>Domain</th>\n",
       "      <th>Area Code</th>\n",
       "      <th>Area</th>\n",
       "      <th>Element Code</th>\n",
       "      <th>Element</th>\n",
       "      <th>Item Code</th>\n",
       "      <th>Item</th>\n",
       "      <th>Year Code</th>\n",
       "      <th>Year</th>\n",
       "      <th>Unit</th>\n",
       "      <th>Value</th>\n",
       "    </tr>\n",
       "  </thead>\n",
       "  <tbody>\n",
       "    <tr>\n",
       "      <th>0</th>\n",
       "      <td>QC</td>\n",
       "      <td>Crops</td>\n",
       "      <td>2</td>\n",
       "      <td>Afghanistan</td>\n",
       "      <td>5419</td>\n",
       "      <td>Yield</td>\n",
       "      <td>56</td>\n",
       "      <td>Maize</td>\n",
       "      <td>1961</td>\n",
       "      <td>1961</td>\n",
       "      <td>hg/ha</td>\n",
       "      <td>14000</td>\n",
       "    </tr>\n",
       "    <tr>\n",
       "      <th>1</th>\n",
       "      <td>QC</td>\n",
       "      <td>Crops</td>\n",
       "      <td>2</td>\n",
       "      <td>Afghanistan</td>\n",
       "      <td>5419</td>\n",
       "      <td>Yield</td>\n",
       "      <td>56</td>\n",
       "      <td>Maize</td>\n",
       "      <td>1962</td>\n",
       "      <td>1962</td>\n",
       "      <td>hg/ha</td>\n",
       "      <td>14000</td>\n",
       "    </tr>\n",
       "    <tr>\n",
       "      <th>2</th>\n",
       "      <td>QC</td>\n",
       "      <td>Crops</td>\n",
       "      <td>2</td>\n",
       "      <td>Afghanistan</td>\n",
       "      <td>5419</td>\n",
       "      <td>Yield</td>\n",
       "      <td>56</td>\n",
       "      <td>Maize</td>\n",
       "      <td>1963</td>\n",
       "      <td>1963</td>\n",
       "      <td>hg/ha</td>\n",
       "      <td>14260</td>\n",
       "    </tr>\n",
       "    <tr>\n",
       "      <th>3</th>\n",
       "      <td>QC</td>\n",
       "      <td>Crops</td>\n",
       "      <td>2</td>\n",
       "      <td>Afghanistan</td>\n",
       "      <td>5419</td>\n",
       "      <td>Yield</td>\n",
       "      <td>56</td>\n",
       "      <td>Maize</td>\n",
       "      <td>1964</td>\n",
       "      <td>1964</td>\n",
       "      <td>hg/ha</td>\n",
       "      <td>14257</td>\n",
       "    </tr>\n",
       "    <tr>\n",
       "      <th>4</th>\n",
       "      <td>QC</td>\n",
       "      <td>Crops</td>\n",
       "      <td>2</td>\n",
       "      <td>Afghanistan</td>\n",
       "      <td>5419</td>\n",
       "      <td>Yield</td>\n",
       "      <td>56</td>\n",
       "      <td>Maize</td>\n",
       "      <td>1965</td>\n",
       "      <td>1965</td>\n",
       "      <td>hg/ha</td>\n",
       "      <td>14400</td>\n",
       "    </tr>\n",
       "  </tbody>\n",
       "</table>\n",
       "</div>"
      ],
      "text/plain": [
       "  Domain Code Domain  Area Code         Area  Element Code Element  Item Code  \\\n",
       "0          QC  Crops          2  Afghanistan          5419   Yield         56   \n",
       "1          QC  Crops          2  Afghanistan          5419   Yield         56   \n",
       "2          QC  Crops          2  Afghanistan          5419   Yield         56   \n",
       "3          QC  Crops          2  Afghanistan          5419   Yield         56   \n",
       "4          QC  Crops          2  Afghanistan          5419   Yield         56   \n",
       "\n",
       "    Item  Year Code  Year   Unit  Value  \n",
       "0  Maize       1961  1961  hg/ha  14000  \n",
       "1  Maize       1962  1962  hg/ha  14000  \n",
       "2  Maize       1963  1963  hg/ha  14260  \n",
       "3  Maize       1964  1964  hg/ha  14257  \n",
       "4  Maize       1965  1965  hg/ha  14400  "
      ]
     },
     "execution_count": 761,
     "metadata": {},
     "output_type": "execute_result"
    }
   ],
   "source": [
    "dataframe.head()"
   ]
  },
  {
   "cell_type": "code",
   "execution_count": 762,
   "id": "60b55bb8",
   "metadata": {},
   "outputs": [
    {
     "data": {
      "text/plain": [
       "(56717, 12)"
      ]
     },
     "execution_count": 762,
     "metadata": {},
     "output_type": "execute_result"
    }
   ],
   "source": [
    "dataframe_yield = dataframe.rename(index=str, columns={\"Value\": \"yield\"})\n",
    "dataframe_yield.shape"
   ]
  },
  {
   "cell_type": "code",
   "execution_count": 763,
   "id": "576472e4",
   "metadata": {},
   "outputs": [
    {
     "data": {
      "text/plain": [
       "(56717, 12)"
      ]
     },
     "execution_count": 763,
     "metadata": {},
     "output_type": "execute_result"
    }
   ],
   "source": [
    "dataframe_yield.shape"
   ]
  },
  {
   "cell_type": "code",
   "execution_count": 764,
   "id": "780bbf85",
   "metadata": {},
   "outputs": [
    {
     "data": {
      "text/html": [
       "<div>\n",
       "<style scoped>\n",
       "    .dataframe tbody tr th:only-of-type {\n",
       "        vertical-align: middle;\n",
       "    }\n",
       "\n",
       "    .dataframe tbody tr th {\n",
       "        vertical-align: top;\n",
       "    }\n",
       "\n",
       "    .dataframe thead th {\n",
       "        text-align: right;\n",
       "    }\n",
       "</style>\n",
       "<table border=\"1\" class=\"dataframe\">\n",
       "  <thead>\n",
       "    <tr style=\"text-align: right;\">\n",
       "      <th></th>\n",
       "      <th>Area</th>\n",
       "      <th>Item</th>\n",
       "      <th>Year</th>\n",
       "      <th>yield</th>\n",
       "    </tr>\n",
       "  </thead>\n",
       "  <tbody>\n",
       "    <tr>\n",
       "      <th>0</th>\n",
       "      <td>Afghanistan</td>\n",
       "      <td>Maize</td>\n",
       "      <td>1961</td>\n",
       "      <td>14000</td>\n",
       "    </tr>\n",
       "    <tr>\n",
       "      <th>1</th>\n",
       "      <td>Afghanistan</td>\n",
       "      <td>Maize</td>\n",
       "      <td>1962</td>\n",
       "      <td>14000</td>\n",
       "    </tr>\n",
       "    <tr>\n",
       "      <th>2</th>\n",
       "      <td>Afghanistan</td>\n",
       "      <td>Maize</td>\n",
       "      <td>1963</td>\n",
       "      <td>14260</td>\n",
       "    </tr>\n",
       "    <tr>\n",
       "      <th>3</th>\n",
       "      <td>Afghanistan</td>\n",
       "      <td>Maize</td>\n",
       "      <td>1964</td>\n",
       "      <td>14257</td>\n",
       "    </tr>\n",
       "    <tr>\n",
       "      <th>4</th>\n",
       "      <td>Afghanistan</td>\n",
       "      <td>Maize</td>\n",
       "      <td>1965</td>\n",
       "      <td>14400</td>\n",
       "    </tr>\n",
       "  </tbody>\n",
       "</table>\n",
       "</div>"
      ],
      "text/plain": [
       "          Area   Item  Year  yield\n",
       "0  Afghanistan  Maize  1961  14000\n",
       "1  Afghanistan  Maize  1962  14000\n",
       "2  Afghanistan  Maize  1963  14260\n",
       "3  Afghanistan  Maize  1964  14257\n",
       "4  Afghanistan  Maize  1965  14400"
      ]
     },
     "execution_count": 764,
     "metadata": {},
     "output_type": "execute_result"
    }
   ],
   "source": [
    "dataframe_yield = dataframe_yield.drop(['Year Code','Element Code','Element','Area Code','Domain Code','Domain','Unit','Item Code'], axis=1)\n",
    "dataframe_yield.head()"
   ]
  },
  {
   "cell_type": "code",
   "execution_count": 765,
   "id": "7ceeba45",
   "metadata": {},
   "outputs": [
    {
     "data": {
      "text/plain": [
       "Area     0\n",
       "Item     0\n",
       "Year     0\n",
       "yield    0\n",
       "dtype: int64"
      ]
     },
     "execution_count": 765,
     "metadata": {},
     "output_type": "execute_result"
    }
   ],
   "source": [
    "dataframe_yield.isnull().sum()"
   ]
  },
  {
   "cell_type": "code",
   "execution_count": 766,
   "id": "4fee1e5e",
   "metadata": {},
   "outputs": [],
   "source": [
    "dataframe_rain=pd.read_csv('E:\\\\MS CS spring 2022\\\\CS 57300\\\\project\\\\rainfall (1).csv')"
   ]
  },
  {
   "cell_type": "code",
   "execution_count": 767,
   "id": "64d02752",
   "metadata": {},
   "outputs": [
    {
     "data": {
      "text/html": [
       "<div>\n",
       "<style scoped>\n",
       "    .dataframe tbody tr th:only-of-type {\n",
       "        vertical-align: middle;\n",
       "    }\n",
       "\n",
       "    .dataframe tbody tr th {\n",
       "        vertical-align: top;\n",
       "    }\n",
       "\n",
       "    .dataframe thead th {\n",
       "        text-align: right;\n",
       "    }\n",
       "</style>\n",
       "<table border=\"1\" class=\"dataframe\">\n",
       "  <thead>\n",
       "    <tr style=\"text-align: right;\">\n",
       "      <th></th>\n",
       "      <th>Area</th>\n",
       "      <th>Year</th>\n",
       "      <th>average_rain_fall_mm_per_year</th>\n",
       "    </tr>\n",
       "  </thead>\n",
       "  <tbody>\n",
       "    <tr>\n",
       "      <th>0</th>\n",
       "      <td>Afghanistan</td>\n",
       "      <td>1985</td>\n",
       "      <td>327</td>\n",
       "    </tr>\n",
       "    <tr>\n",
       "      <th>1</th>\n",
       "      <td>Afghanistan</td>\n",
       "      <td>1986</td>\n",
       "      <td>327</td>\n",
       "    </tr>\n",
       "    <tr>\n",
       "      <th>2</th>\n",
       "      <td>Afghanistan</td>\n",
       "      <td>1987</td>\n",
       "      <td>327</td>\n",
       "    </tr>\n",
       "    <tr>\n",
       "      <th>3</th>\n",
       "      <td>Afghanistan</td>\n",
       "      <td>1989</td>\n",
       "      <td>327</td>\n",
       "    </tr>\n",
       "    <tr>\n",
       "      <th>4</th>\n",
       "      <td>Afghanistan</td>\n",
       "      <td>1990</td>\n",
       "      <td>327</td>\n",
       "    </tr>\n",
       "  </tbody>\n",
       "</table>\n",
       "</div>"
      ],
      "text/plain": [
       "          Area  Year average_rain_fall_mm_per_year\n",
       "0  Afghanistan  1985                           327\n",
       "1  Afghanistan  1986                           327\n",
       "2  Afghanistan  1987                           327\n",
       "3  Afghanistan  1989                           327\n",
       "4  Afghanistan  1990                           327"
      ]
     },
     "execution_count": 767,
     "metadata": {},
     "output_type": "execute_result"
    }
   ],
   "source": [
    "dataframe_rain.head()"
   ]
  },
  {
   "cell_type": "code",
   "execution_count": 768,
   "id": "3c17e42e",
   "metadata": {},
   "outputs": [],
   "source": [
    "dataframe_rain = dataframe_rain.rename(index=str, columns={\" Area\": 'Area'})"
   ]
  },
  {
   "cell_type": "code",
   "execution_count": 769,
   "id": "f94b6aab",
   "metadata": {},
   "outputs": [
    {
     "data": {
      "text/plain": [
       "Area                               0\n",
       "Year                               0\n",
       "average_rain_fall_mm_per_year    774\n",
       "dtype: int64"
      ]
     },
     "execution_count": 769,
     "metadata": {},
     "output_type": "execute_result"
    }
   ],
   "source": [
    "dataframe_rain.isnull().sum()"
   ]
  },
  {
   "cell_type": "code",
   "execution_count": 770,
   "id": "ecc82f19",
   "metadata": {},
   "outputs": [],
   "source": [
    "dataframe_rain = dataframe_rain.dropna()"
   ]
  },
  {
   "cell_type": "code",
   "execution_count": 771,
   "id": "2e601a6d",
   "metadata": {},
   "outputs": [
    {
     "data": {
      "text/plain": [
       "Area                             0\n",
       "Year                             0\n",
       "average_rain_fall_mm_per_year    0\n",
       "dtype: int64"
      ]
     },
     "execution_count": 771,
     "metadata": {},
     "output_type": "execute_result"
    }
   ],
   "source": [
    "dataframe_rain.isnull().sum()"
   ]
  },
  {
   "cell_type": "code",
   "execution_count": 772,
   "id": "dbba0679",
   "metadata": {},
   "outputs": [
    {
     "name": "stdout",
     "output_type": "stream",
     "text": [
      "<class 'pandas.core.frame.DataFrame'>\n",
      "Index: 5953 entries, 0 to 6726\n",
      "Data columns (total 3 columns):\n",
      " #   Column                         Non-Null Count  Dtype  \n",
      "---  ------                         --------------  -----  \n",
      " 0   Area                           5953 non-null   object \n",
      " 1   Year                           5953 non-null   int64  \n",
      " 2   average_rain_fall_mm_per_year  5947 non-null   float64\n",
      "dtypes: float64(1), int64(1), object(1)\n",
      "memory usage: 186.0+ KB\n"
     ]
    }
   ],
   "source": [
    "dataframe_rain['average_rain_fall_mm_per_year'] = pd.to_numeric(dataframe_rain['average_rain_fall_mm_per_year'],errors = 'coerce')\n",
    "dataframe_rain.info()"
   ]
  },
  {
   "cell_type": "code",
   "execution_count": 773,
   "id": "bda9e5ec",
   "metadata": {},
   "outputs": [],
   "source": [
    "yield_merged = pd.merge(dataframe_yield, dataframe_rain, on=['Year','Area'])"
   ]
  },
  {
   "cell_type": "code",
   "execution_count": 774,
   "id": "b0c53388",
   "metadata": {},
   "outputs": [
    {
     "data": {
      "text/plain": [
       "(25400, 5)"
      ]
     },
     "execution_count": 774,
     "metadata": {},
     "output_type": "execute_result"
    }
   ],
   "source": [
    "yield_merged.shape"
   ]
  },
  {
   "cell_type": "code",
   "execution_count": 775,
   "id": "b8f123fc",
   "metadata": {},
   "outputs": [],
   "source": [
    "dataframe_pesticides=pd.read_csv('E:\\\\MS CS spring 2022\\\\CS 57300\\\\project\\\\pesticides (1).csv')"
   ]
  },
  {
   "cell_type": "code",
   "execution_count": 776,
   "id": "abe57a92",
   "metadata": {},
   "outputs": [
    {
     "data": {
      "text/html": [
       "<div>\n",
       "<style scoped>\n",
       "    .dataframe tbody tr th:only-of-type {\n",
       "        vertical-align: middle;\n",
       "    }\n",
       "\n",
       "    .dataframe tbody tr th {\n",
       "        vertical-align: top;\n",
       "    }\n",
       "\n",
       "    .dataframe thead th {\n",
       "        text-align: right;\n",
       "    }\n",
       "</style>\n",
       "<table border=\"1\" class=\"dataframe\">\n",
       "  <thead>\n",
       "    <tr style=\"text-align: right;\">\n",
       "      <th></th>\n",
       "      <th>Domain</th>\n",
       "      <th>Area</th>\n",
       "      <th>Element</th>\n",
       "      <th>Item</th>\n",
       "      <th>Year</th>\n",
       "      <th>Unit</th>\n",
       "      <th>Value</th>\n",
       "    </tr>\n",
       "  </thead>\n",
       "  <tbody>\n",
       "    <tr>\n",
       "      <th>0</th>\n",
       "      <td>Pesticides Use</td>\n",
       "      <td>Albania</td>\n",
       "      <td>Use</td>\n",
       "      <td>Pesticides (total)</td>\n",
       "      <td>1990</td>\n",
       "      <td>tonnes of active ingredients</td>\n",
       "      <td>121.0</td>\n",
       "    </tr>\n",
       "    <tr>\n",
       "      <th>1</th>\n",
       "      <td>Pesticides Use</td>\n",
       "      <td>Albania</td>\n",
       "      <td>Use</td>\n",
       "      <td>Pesticides (total)</td>\n",
       "      <td>1991</td>\n",
       "      <td>tonnes of active ingredients</td>\n",
       "      <td>121.0</td>\n",
       "    </tr>\n",
       "    <tr>\n",
       "      <th>2</th>\n",
       "      <td>Pesticides Use</td>\n",
       "      <td>Albania</td>\n",
       "      <td>Use</td>\n",
       "      <td>Pesticides (total)</td>\n",
       "      <td>1992</td>\n",
       "      <td>tonnes of active ingredients</td>\n",
       "      <td>121.0</td>\n",
       "    </tr>\n",
       "    <tr>\n",
       "      <th>3</th>\n",
       "      <td>Pesticides Use</td>\n",
       "      <td>Albania</td>\n",
       "      <td>Use</td>\n",
       "      <td>Pesticides (total)</td>\n",
       "      <td>1993</td>\n",
       "      <td>tonnes of active ingredients</td>\n",
       "      <td>121.0</td>\n",
       "    </tr>\n",
       "    <tr>\n",
       "      <th>4</th>\n",
       "      <td>Pesticides Use</td>\n",
       "      <td>Albania</td>\n",
       "      <td>Use</td>\n",
       "      <td>Pesticides (total)</td>\n",
       "      <td>1994</td>\n",
       "      <td>tonnes of active ingredients</td>\n",
       "      <td>201.0</td>\n",
       "    </tr>\n",
       "  </tbody>\n",
       "</table>\n",
       "</div>"
      ],
      "text/plain": [
       "           Domain     Area Element                Item  Year  \\\n",
       "0  Pesticides Use  Albania     Use  Pesticides (total)  1990   \n",
       "1  Pesticides Use  Albania     Use  Pesticides (total)  1991   \n",
       "2  Pesticides Use  Albania     Use  Pesticides (total)  1992   \n",
       "3  Pesticides Use  Albania     Use  Pesticides (total)  1993   \n",
       "4  Pesticides Use  Albania     Use  Pesticides (total)  1994   \n",
       "\n",
       "                           Unit  Value  \n",
       "0  tonnes of active ingredients  121.0  \n",
       "1  tonnes of active ingredients  121.0  \n",
       "2  tonnes of active ingredients  121.0  \n",
       "3  tonnes of active ingredients  121.0  \n",
       "4  tonnes of active ingredients  201.0  "
      ]
     },
     "execution_count": 776,
     "metadata": {},
     "output_type": "execute_result"
    }
   ],
   "source": [
    "dataframe_pesticides.head()"
   ]
  },
  {
   "cell_type": "code",
   "execution_count": 777,
   "id": "28ba8625",
   "metadata": {},
   "outputs": [
    {
     "data": {
      "text/html": [
       "<div>\n",
       "<style scoped>\n",
       "    .dataframe tbody tr th:only-of-type {\n",
       "        vertical-align: middle;\n",
       "    }\n",
       "\n",
       "    .dataframe tbody tr th {\n",
       "        vertical-align: top;\n",
       "    }\n",
       "\n",
       "    .dataframe thead th {\n",
       "        text-align: right;\n",
       "    }\n",
       "</style>\n",
       "<table border=\"1\" class=\"dataframe\">\n",
       "  <thead>\n",
       "    <tr style=\"text-align: right;\">\n",
       "      <th></th>\n",
       "      <th>Area</th>\n",
       "      <th>Year</th>\n",
       "      <th>pesticides_tonnes</th>\n",
       "    </tr>\n",
       "  </thead>\n",
       "  <tbody>\n",
       "    <tr>\n",
       "      <th>0</th>\n",
       "      <td>Albania</td>\n",
       "      <td>1990</td>\n",
       "      <td>121.0</td>\n",
       "    </tr>\n",
       "    <tr>\n",
       "      <th>1</th>\n",
       "      <td>Albania</td>\n",
       "      <td>1991</td>\n",
       "      <td>121.0</td>\n",
       "    </tr>\n",
       "    <tr>\n",
       "      <th>2</th>\n",
       "      <td>Albania</td>\n",
       "      <td>1992</td>\n",
       "      <td>121.0</td>\n",
       "    </tr>\n",
       "    <tr>\n",
       "      <th>3</th>\n",
       "      <td>Albania</td>\n",
       "      <td>1993</td>\n",
       "      <td>121.0</td>\n",
       "    </tr>\n",
       "    <tr>\n",
       "      <th>4</th>\n",
       "      <td>Albania</td>\n",
       "      <td>1994</td>\n",
       "      <td>201.0</td>\n",
       "    </tr>\n",
       "  </tbody>\n",
       "</table>\n",
       "</div>"
      ],
      "text/plain": [
       "      Area  Year  pesticides_tonnes\n",
       "0  Albania  1990              121.0\n",
       "1  Albania  1991              121.0\n",
       "2  Albania  1992              121.0\n",
       "3  Albania  1993              121.0\n",
       "4  Albania  1994              201.0"
      ]
     },
     "execution_count": 777,
     "metadata": {},
     "output_type": "execute_result"
    }
   ],
   "source": [
    "dataframe_pesticides = dataframe_pesticides.rename(index=str, columns={\"Value\": \"pesticides_tonnes\"})\n",
    "dataframe_pesticides = dataframe_pesticides.drop(['Element','Domain','Unit','Item'], axis=1)\n",
    "dataframe_pesticides.head()"
   ]
  },
  {
   "cell_type": "code",
   "execution_count": 778,
   "id": "35ced594",
   "metadata": {},
   "outputs": [
    {
     "data": {
      "text/plain": [
       "Area                 0\n",
       "Year                 0\n",
       "pesticides_tonnes    0\n",
       "dtype: int64"
      ]
     },
     "execution_count": 778,
     "metadata": {},
     "output_type": "execute_result"
    }
   ],
   "source": [
    "dataframe_pesticides.isnull().sum()"
   ]
  },
  {
   "cell_type": "code",
   "execution_count": 779,
   "id": "02c7a295",
   "metadata": {},
   "outputs": [
    {
     "data": {
      "text/plain": [
       "(18955, 6)"
      ]
     },
     "execution_count": 779,
     "metadata": {},
     "output_type": "execute_result"
    }
   ],
   "source": [
    "yield_merged = pd.merge(yield_merged,dataframe_pesticides , on=['Year','Area'])\n",
    "yield_merged.shape"
   ]
  },
  {
   "cell_type": "code",
   "execution_count": 780,
   "id": "e98b0893",
   "metadata": {},
   "outputs": [
    {
     "data": {
      "text/html": [
       "<div>\n",
       "<style scoped>\n",
       "    .dataframe tbody tr th:only-of-type {\n",
       "        vertical-align: middle;\n",
       "    }\n",
       "\n",
       "    .dataframe tbody tr th {\n",
       "        vertical-align: top;\n",
       "    }\n",
       "\n",
       "    .dataframe thead th {\n",
       "        text-align: right;\n",
       "    }\n",
       "</style>\n",
       "<table border=\"1\" class=\"dataframe\">\n",
       "  <thead>\n",
       "    <tr style=\"text-align: right;\">\n",
       "      <th></th>\n",
       "      <th>Area</th>\n",
       "      <th>Item</th>\n",
       "      <th>Year</th>\n",
       "      <th>yield</th>\n",
       "      <th>average_rain_fall_mm_per_year</th>\n",
       "      <th>pesticides_tonnes</th>\n",
       "    </tr>\n",
       "  </thead>\n",
       "  <tbody>\n",
       "    <tr>\n",
       "      <th>0</th>\n",
       "      <td>Albania</td>\n",
       "      <td>Maize</td>\n",
       "      <td>1990</td>\n",
       "      <td>36613</td>\n",
       "      <td>1485.0</td>\n",
       "      <td>121.0</td>\n",
       "    </tr>\n",
       "    <tr>\n",
       "      <th>1</th>\n",
       "      <td>Albania</td>\n",
       "      <td>Potatoes</td>\n",
       "      <td>1990</td>\n",
       "      <td>66667</td>\n",
       "      <td>1485.0</td>\n",
       "      <td>121.0</td>\n",
       "    </tr>\n",
       "    <tr>\n",
       "      <th>2</th>\n",
       "      <td>Albania</td>\n",
       "      <td>Rice, paddy</td>\n",
       "      <td>1990</td>\n",
       "      <td>23333</td>\n",
       "      <td>1485.0</td>\n",
       "      <td>121.0</td>\n",
       "    </tr>\n",
       "    <tr>\n",
       "      <th>3</th>\n",
       "      <td>Albania</td>\n",
       "      <td>Sorghum</td>\n",
       "      <td>1990</td>\n",
       "      <td>12500</td>\n",
       "      <td>1485.0</td>\n",
       "      <td>121.0</td>\n",
       "    </tr>\n",
       "    <tr>\n",
       "      <th>4</th>\n",
       "      <td>Albania</td>\n",
       "      <td>Soybeans</td>\n",
       "      <td>1990</td>\n",
       "      <td>7000</td>\n",
       "      <td>1485.0</td>\n",
       "      <td>121.0</td>\n",
       "    </tr>\n",
       "  </tbody>\n",
       "</table>\n",
       "</div>"
      ],
      "text/plain": [
       "      Area         Item  Year  yield  average_rain_fall_mm_per_year  \\\n",
       "0  Albania        Maize  1990  36613                         1485.0   \n",
       "1  Albania     Potatoes  1990  66667                         1485.0   \n",
       "2  Albania  Rice, paddy  1990  23333                         1485.0   \n",
       "3  Albania      Sorghum  1990  12500                         1485.0   \n",
       "4  Albania     Soybeans  1990   7000                         1485.0   \n",
       "\n",
       "   pesticides_tonnes  \n",
       "0              121.0  \n",
       "1              121.0  \n",
       "2              121.0  \n",
       "3              121.0  \n",
       "4              121.0  "
      ]
     },
     "execution_count": 780,
     "metadata": {},
     "output_type": "execute_result"
    }
   ],
   "source": [
    "yield_merged.head()"
   ]
  },
  {
   "cell_type": "code",
   "execution_count": 781,
   "id": "bc073b3d",
   "metadata": {},
   "outputs": [],
   "source": [
    "dataframe_temp=pd.read_csv('E:\\\\MS CS spring 2022\\\\CS 57300\\\\project\\\\temp.csv')"
   ]
  },
  {
   "cell_type": "code",
   "execution_count": 782,
   "id": "16d42aef",
   "metadata": {},
   "outputs": [
    {
     "data": {
      "text/html": [
       "<div>\n",
       "<style scoped>\n",
       "    .dataframe tbody tr th:only-of-type {\n",
       "        vertical-align: middle;\n",
       "    }\n",
       "\n",
       "    .dataframe tbody tr th {\n",
       "        vertical-align: top;\n",
       "    }\n",
       "\n",
       "    .dataframe thead th {\n",
       "        text-align: right;\n",
       "    }\n",
       "</style>\n",
       "<table border=\"1\" class=\"dataframe\">\n",
       "  <thead>\n",
       "    <tr style=\"text-align: right;\">\n",
       "      <th></th>\n",
       "      <th>year</th>\n",
       "      <th>country</th>\n",
       "      <th>avg_temp</th>\n",
       "    </tr>\n",
       "  </thead>\n",
       "  <tbody>\n",
       "    <tr>\n",
       "      <th>71306</th>\n",
       "      <td>2009</td>\n",
       "      <td>Mexico</td>\n",
       "      <td>21.76</td>\n",
       "    </tr>\n",
       "    <tr>\n",
       "      <th>71307</th>\n",
       "      <td>2010</td>\n",
       "      <td>Mexico</td>\n",
       "      <td>20.90</td>\n",
       "    </tr>\n",
       "    <tr>\n",
       "      <th>71308</th>\n",
       "      <td>2011</td>\n",
       "      <td>Mexico</td>\n",
       "      <td>21.55</td>\n",
       "    </tr>\n",
       "    <tr>\n",
       "      <th>71309</th>\n",
       "      <td>2012</td>\n",
       "      <td>Mexico</td>\n",
       "      <td>21.52</td>\n",
       "    </tr>\n",
       "    <tr>\n",
       "      <th>71310</th>\n",
       "      <td>2013</td>\n",
       "      <td>Mexico</td>\n",
       "      <td>22.19</td>\n",
       "    </tr>\n",
       "  </tbody>\n",
       "</table>\n",
       "</div>"
      ],
      "text/plain": [
       "       year country  avg_temp\n",
       "71306  2009  Mexico     21.76\n",
       "71307  2010  Mexico     20.90\n",
       "71308  2011  Mexico     21.55\n",
       "71309  2012  Mexico     21.52\n",
       "71310  2013  Mexico     22.19"
      ]
     },
     "execution_count": 782,
     "metadata": {},
     "output_type": "execute_result"
    }
   ],
   "source": [
    "dataframe_temp.tail()"
   ]
  },
  {
   "cell_type": "code",
   "execution_count": 783,
   "id": "b3781698",
   "metadata": {},
   "outputs": [
    {
     "data": {
      "text/html": [
       "<div>\n",
       "<style scoped>\n",
       "    .dataframe tbody tr th:only-of-type {\n",
       "        vertical-align: middle;\n",
       "    }\n",
       "\n",
       "    .dataframe tbody tr th {\n",
       "        vertical-align: top;\n",
       "    }\n",
       "\n",
       "    .dataframe thead th {\n",
       "        text-align: right;\n",
       "    }\n",
       "</style>\n",
       "<table border=\"1\" class=\"dataframe\">\n",
       "  <thead>\n",
       "    <tr style=\"text-align: right;\">\n",
       "      <th></th>\n",
       "      <th>Year</th>\n",
       "      <th>Area</th>\n",
       "      <th>avg_temp</th>\n",
       "    </tr>\n",
       "  </thead>\n",
       "  <tbody>\n",
       "    <tr>\n",
       "      <th>0</th>\n",
       "      <td>1849</td>\n",
       "      <td>Côte D'Ivoire</td>\n",
       "      <td>25.58</td>\n",
       "    </tr>\n",
       "    <tr>\n",
       "      <th>1</th>\n",
       "      <td>1850</td>\n",
       "      <td>Côte D'Ivoire</td>\n",
       "      <td>25.52</td>\n",
       "    </tr>\n",
       "    <tr>\n",
       "      <th>2</th>\n",
       "      <td>1851</td>\n",
       "      <td>Côte D'Ivoire</td>\n",
       "      <td>25.67</td>\n",
       "    </tr>\n",
       "    <tr>\n",
       "      <th>3</th>\n",
       "      <td>1852</td>\n",
       "      <td>Côte D'Ivoire</td>\n",
       "      <td>NaN</td>\n",
       "    </tr>\n",
       "    <tr>\n",
       "      <th>4</th>\n",
       "      <td>1853</td>\n",
       "      <td>Côte D'Ivoire</td>\n",
       "      <td>NaN</td>\n",
       "    </tr>\n",
       "  </tbody>\n",
       "</table>\n",
       "</div>"
      ],
      "text/plain": [
       "   Year           Area  avg_temp\n",
       "0  1849  Côte D'Ivoire     25.58\n",
       "1  1850  Côte D'Ivoire     25.52\n",
       "2  1851  Côte D'Ivoire     25.67\n",
       "3  1852  Côte D'Ivoire       NaN\n",
       "4  1853  Côte D'Ivoire       NaN"
      ]
     },
     "execution_count": 783,
     "metadata": {},
     "output_type": "execute_result"
    }
   ],
   "source": [
    "dataframe_temp = dataframe_temp.rename(index=str, columns={\"year\": \"Year\", \"country\":'Area'})\n",
    "dataframe_temp.head()"
   ]
  },
  {
   "cell_type": "code",
   "execution_count": 784,
   "id": "0c22ceff",
   "metadata": {},
   "outputs": [
    {
     "data": {
      "text/plain": [
       "Year           0\n",
       "Area           0\n",
       "avg_temp    2547\n",
       "dtype: int64"
      ]
     },
     "execution_count": 784,
     "metadata": {},
     "output_type": "execute_result"
    }
   ],
   "source": [
    "dataframe_temp.isnull().sum()"
   ]
  },
  {
   "cell_type": "code",
   "execution_count": 785,
   "id": "891f4b17",
   "metadata": {},
   "outputs": [],
   "source": [
    "dataframe_temp = dataframe_temp.dropna()"
   ]
  },
  {
   "cell_type": "code",
   "execution_count": 786,
   "id": "349c4ca9",
   "metadata": {},
   "outputs": [
    {
     "data": {
      "text/plain": [
       "Year        0\n",
       "Area        0\n",
       "avg_temp    0\n",
       "dtype: int64"
      ]
     },
     "execution_count": 786,
     "metadata": {},
     "output_type": "execute_result"
    }
   ],
   "source": [
    "dataframe_temp.isnull().sum()"
   ]
  },
  {
   "cell_type": "code",
   "execution_count": 787,
   "id": "8c76b00e",
   "metadata": {},
   "outputs": [
    {
     "data": {
      "text/html": [
       "<div>\n",
       "<style scoped>\n",
       "    .dataframe tbody tr th:only-of-type {\n",
       "        vertical-align: middle;\n",
       "    }\n",
       "\n",
       "    .dataframe tbody tr th {\n",
       "        vertical-align: top;\n",
       "    }\n",
       "\n",
       "    .dataframe thead th {\n",
       "        text-align: right;\n",
       "    }\n",
       "</style>\n",
       "<table border=\"1\" class=\"dataframe\">\n",
       "  <thead>\n",
       "    <tr style=\"text-align: right;\">\n",
       "      <th></th>\n",
       "      <th>Area</th>\n",
       "      <th>Item</th>\n",
       "      <th>Year</th>\n",
       "      <th>yield</th>\n",
       "      <th>average_rain_fall_mm_per_year</th>\n",
       "      <th>pesticides_tonnes</th>\n",
       "      <th>avg_temp</th>\n",
       "    </tr>\n",
       "  </thead>\n",
       "  <tbody>\n",
       "    <tr>\n",
       "      <th>0</th>\n",
       "      <td>Albania</td>\n",
       "      <td>Maize</td>\n",
       "      <td>1990</td>\n",
       "      <td>36613</td>\n",
       "      <td>1485.0</td>\n",
       "      <td>121.0</td>\n",
       "      <td>16.37</td>\n",
       "    </tr>\n",
       "    <tr>\n",
       "      <th>1</th>\n",
       "      <td>Albania</td>\n",
       "      <td>Potatoes</td>\n",
       "      <td>1990</td>\n",
       "      <td>66667</td>\n",
       "      <td>1485.0</td>\n",
       "      <td>121.0</td>\n",
       "      <td>16.37</td>\n",
       "    </tr>\n",
       "    <tr>\n",
       "      <th>2</th>\n",
       "      <td>Albania</td>\n",
       "      <td>Rice, paddy</td>\n",
       "      <td>1990</td>\n",
       "      <td>23333</td>\n",
       "      <td>1485.0</td>\n",
       "      <td>121.0</td>\n",
       "      <td>16.37</td>\n",
       "    </tr>\n",
       "    <tr>\n",
       "      <th>3</th>\n",
       "      <td>Albania</td>\n",
       "      <td>Sorghum</td>\n",
       "      <td>1990</td>\n",
       "      <td>12500</td>\n",
       "      <td>1485.0</td>\n",
       "      <td>121.0</td>\n",
       "      <td>16.37</td>\n",
       "    </tr>\n",
       "    <tr>\n",
       "      <th>4</th>\n",
       "      <td>Albania</td>\n",
       "      <td>Soybeans</td>\n",
       "      <td>1990</td>\n",
       "      <td>7000</td>\n",
       "      <td>1485.0</td>\n",
       "      <td>121.0</td>\n",
       "      <td>16.37</td>\n",
       "    </tr>\n",
       "  </tbody>\n",
       "</table>\n",
       "</div>"
      ],
      "text/plain": [
       "      Area         Item  Year  yield  average_rain_fall_mm_per_year  \\\n",
       "0  Albania        Maize  1990  36613                         1485.0   \n",
       "1  Albania     Potatoes  1990  66667                         1485.0   \n",
       "2  Albania  Rice, paddy  1990  23333                         1485.0   \n",
       "3  Albania      Sorghum  1990  12500                         1485.0   \n",
       "4  Albania     Soybeans  1990   7000                         1485.0   \n",
       "\n",
       "   pesticides_tonnes  avg_temp  \n",
       "0              121.0     16.37  \n",
       "1              121.0     16.37  \n",
       "2              121.0     16.37  \n",
       "3              121.0     16.37  \n",
       "4              121.0     16.37  "
      ]
     },
     "execution_count": 787,
     "metadata": {},
     "output_type": "execute_result"
    }
   ],
   "source": [
    "yield_merged = pd.merge(yield_merged,dataframe_temp, on=['Area','Year'])\n",
    "yield_merged.head()"
   ]
  },
  {
   "cell_type": "code",
   "execution_count": 788,
   "id": "73097473",
   "metadata": {},
   "outputs": [
    {
     "data": {
      "text/plain": [
       "(28248, 7)"
      ]
     },
     "execution_count": 788,
     "metadata": {},
     "output_type": "execute_result"
    }
   ],
   "source": [
    "yield_merged.shape"
   ]
  },
  {
   "cell_type": "code",
   "execution_count": 789,
   "id": "b0b320e9",
   "metadata": {},
   "outputs": [
    {
     "data": {
      "text/html": [
       "<div>\n",
       "<style scoped>\n",
       "    .dataframe tbody tr th:only-of-type {\n",
       "        vertical-align: middle;\n",
       "    }\n",
       "\n",
       "    .dataframe tbody tr th {\n",
       "        vertical-align: top;\n",
       "    }\n",
       "\n",
       "    .dataframe thead th {\n",
       "        text-align: right;\n",
       "    }\n",
       "</style>\n",
       "<table border=\"1\" class=\"dataframe\">\n",
       "  <thead>\n",
       "    <tr style=\"text-align: right;\">\n",
       "      <th></th>\n",
       "      <th>Area</th>\n",
       "      <th>Year</th>\n",
       "      <th>yield</th>\n",
       "      <th>average_rain_fall_mm_per_year</th>\n",
       "      <th>pesticides_tonnes</th>\n",
       "      <th>avg_temp</th>\n",
       "    </tr>\n",
       "    <tr>\n",
       "      <th>Item</th>\n",
       "      <th></th>\n",
       "      <th></th>\n",
       "      <th></th>\n",
       "      <th></th>\n",
       "      <th></th>\n",
       "      <th></th>\n",
       "    </tr>\n",
       "  </thead>\n",
       "  <tbody>\n",
       "    <tr>\n",
       "      <th>Cassava</th>\n",
       "      <td>2047</td>\n",
       "      <td>2047</td>\n",
       "      <td>2047</td>\n",
       "      <td>2045</td>\n",
       "      <td>2047</td>\n",
       "      <td>2047</td>\n",
       "    </tr>\n",
       "    <tr>\n",
       "      <th>Maize</th>\n",
       "      <td>4123</td>\n",
       "      <td>4123</td>\n",
       "      <td>4123</td>\n",
       "      <td>4121</td>\n",
       "      <td>4123</td>\n",
       "      <td>4123</td>\n",
       "    </tr>\n",
       "    <tr>\n",
       "      <th>Plantains and others</th>\n",
       "      <td>556</td>\n",
       "      <td>556</td>\n",
       "      <td>556</td>\n",
       "      <td>556</td>\n",
       "      <td>556</td>\n",
       "      <td>556</td>\n",
       "    </tr>\n",
       "    <tr>\n",
       "      <th>Potatoes</th>\n",
       "      <td>4276</td>\n",
       "      <td>4276</td>\n",
       "      <td>4276</td>\n",
       "      <td>4276</td>\n",
       "      <td>4276</td>\n",
       "      <td>4276</td>\n",
       "    </tr>\n",
       "    <tr>\n",
       "      <th>Rice, paddy</th>\n",
       "      <td>3388</td>\n",
       "      <td>3388</td>\n",
       "      <td>3388</td>\n",
       "      <td>3388</td>\n",
       "      <td>3388</td>\n",
       "      <td>3388</td>\n",
       "    </tr>\n",
       "    <tr>\n",
       "      <th>Sorghum</th>\n",
       "      <td>3039</td>\n",
       "      <td>3039</td>\n",
       "      <td>3039</td>\n",
       "      <td>3039</td>\n",
       "      <td>3039</td>\n",
       "      <td>3039</td>\n",
       "    </tr>\n",
       "    <tr>\n",
       "      <th>Soybeans</th>\n",
       "      <td>3223</td>\n",
       "      <td>3223</td>\n",
       "      <td>3223</td>\n",
       "      <td>3223</td>\n",
       "      <td>3223</td>\n",
       "      <td>3223</td>\n",
       "    </tr>\n",
       "    <tr>\n",
       "      <th>Sweet potatoes</th>\n",
       "      <td>2892</td>\n",
       "      <td>2892</td>\n",
       "      <td>2892</td>\n",
       "      <td>2890</td>\n",
       "      <td>2892</td>\n",
       "      <td>2892</td>\n",
       "    </tr>\n",
       "    <tr>\n",
       "      <th>Wheat</th>\n",
       "      <td>3857</td>\n",
       "      <td>3857</td>\n",
       "      <td>3857</td>\n",
       "      <td>3857</td>\n",
       "      <td>3857</td>\n",
       "      <td>3857</td>\n",
       "    </tr>\n",
       "    <tr>\n",
       "      <th>Yams</th>\n",
       "      <td>847</td>\n",
       "      <td>847</td>\n",
       "      <td>847</td>\n",
       "      <td>847</td>\n",
       "      <td>847</td>\n",
       "      <td>847</td>\n",
       "    </tr>\n",
       "  </tbody>\n",
       "</table>\n",
       "</div>"
      ],
      "text/plain": [
       "                      Area  Year  yield  average_rain_fall_mm_per_year  \\\n",
       "Item                                                                     \n",
       "Cassava               2047  2047   2047                           2045   \n",
       "Maize                 4123  4123   4123                           4121   \n",
       "Plantains and others   556   556    556                            556   \n",
       "Potatoes              4276  4276   4276                           4276   \n",
       "Rice, paddy           3388  3388   3388                           3388   \n",
       "Sorghum               3039  3039   3039                           3039   \n",
       "Soybeans              3223  3223   3223                           3223   \n",
       "Sweet potatoes        2892  2892   2892                           2890   \n",
       "Wheat                 3857  3857   3857                           3857   \n",
       "Yams                   847   847    847                            847   \n",
       "\n",
       "                      pesticides_tonnes  avg_temp  \n",
       "Item                                               \n",
       "Cassava                            2047      2047  \n",
       "Maize                              4123      4123  \n",
       "Plantains and others                556       556  \n",
       "Potatoes                           4276      4276  \n",
       "Rice, paddy                        3388      3388  \n",
       "Sorghum                            3039      3039  \n",
       "Soybeans                           3223      3223  \n",
       "Sweet potatoes                     2892      2892  \n",
       "Wheat                              3857      3857  \n",
       "Yams                                847       847  "
      ]
     },
     "execution_count": 789,
     "metadata": {},
     "output_type": "execute_result"
    }
   ],
   "source": [
    "yield_merged.groupby('Item').count()"
   ]
  },
  {
   "cell_type": "code",
   "execution_count": 790,
   "id": "615181bb",
   "metadata": {},
   "outputs": [
    {
     "data": {
      "text/html": [
       "<div>\n",
       "<style scoped>\n",
       "    .dataframe tbody tr th:only-of-type {\n",
       "        vertical-align: middle;\n",
       "    }\n",
       "\n",
       "    .dataframe tbody tr th {\n",
       "        vertical-align: top;\n",
       "    }\n",
       "\n",
       "    .dataframe thead th {\n",
       "        text-align: right;\n",
       "    }\n",
       "</style>\n",
       "<table border=\"1\" class=\"dataframe\">\n",
       "  <thead>\n",
       "    <tr style=\"text-align: right;\">\n",
       "      <th></th>\n",
       "      <th>Year</th>\n",
       "      <th>yield</th>\n",
       "      <th>average_rain_fall_mm_per_year</th>\n",
       "      <th>pesticides_tonnes</th>\n",
       "      <th>avg_temp</th>\n",
       "    </tr>\n",
       "  </thead>\n",
       "  <tbody>\n",
       "    <tr>\n",
       "      <th>count</th>\n",
       "      <td>28248.000000</td>\n",
       "      <td>28248.000000</td>\n",
       "      <td>28242.00000</td>\n",
       "      <td>28248.000000</td>\n",
       "      <td>28248.000000</td>\n",
       "    </tr>\n",
       "    <tr>\n",
       "      <th>mean</th>\n",
       "      <td>2001.541950</td>\n",
       "      <td>77047.863282</td>\n",
       "      <td>1149.05598</td>\n",
       "      <td>37069.136973</td>\n",
       "      <td>20.543722</td>\n",
       "    </tr>\n",
       "    <tr>\n",
       "      <th>std</th>\n",
       "      <td>7.052997</td>\n",
       "      <td>84950.194454</td>\n",
       "      <td>709.81215</td>\n",
       "      <td>59954.787836</td>\n",
       "      <td>6.311828</td>\n",
       "    </tr>\n",
       "    <tr>\n",
       "      <th>min</th>\n",
       "      <td>1990.000000</td>\n",
       "      <td>50.000000</td>\n",
       "      <td>51.00000</td>\n",
       "      <td>0.040000</td>\n",
       "      <td>1.300000</td>\n",
       "    </tr>\n",
       "    <tr>\n",
       "      <th>25%</th>\n",
       "      <td>1995.000000</td>\n",
       "      <td>19918.750000</td>\n",
       "      <td>593.00000</td>\n",
       "      <td>1695.710000</td>\n",
       "      <td>16.710000</td>\n",
       "    </tr>\n",
       "    <tr>\n",
       "      <th>50%</th>\n",
       "      <td>2001.000000</td>\n",
       "      <td>38295.000000</td>\n",
       "      <td>1083.00000</td>\n",
       "      <td>17517.760000</td>\n",
       "      <td>21.510000</td>\n",
       "    </tr>\n",
       "    <tr>\n",
       "      <th>75%</th>\n",
       "      <td>2008.000000</td>\n",
       "      <td>104598.250000</td>\n",
       "      <td>1668.00000</td>\n",
       "      <td>48687.880000</td>\n",
       "      <td>26.000000</td>\n",
       "    </tr>\n",
       "    <tr>\n",
       "      <th>max</th>\n",
       "      <td>2013.000000</td>\n",
       "      <td>501412.000000</td>\n",
       "      <td>3240.00000</td>\n",
       "      <td>367778.000000</td>\n",
       "      <td>30.650000</td>\n",
       "    </tr>\n",
       "  </tbody>\n",
       "</table>\n",
       "</div>"
      ],
      "text/plain": [
       "               Year          yield  average_rain_fall_mm_per_year  \\\n",
       "count  28248.000000   28248.000000                    28242.00000   \n",
       "mean    2001.541950   77047.863282                     1149.05598   \n",
       "std        7.052997   84950.194454                      709.81215   \n",
       "min     1990.000000      50.000000                       51.00000   \n",
       "25%     1995.000000   19918.750000                      593.00000   \n",
       "50%     2001.000000   38295.000000                     1083.00000   \n",
       "75%     2008.000000  104598.250000                     1668.00000   \n",
       "max     2013.000000  501412.000000                     3240.00000   \n",
       "\n",
       "       pesticides_tonnes      avg_temp  \n",
       "count       28248.000000  28248.000000  \n",
       "mean        37069.136973     20.543722  \n",
       "std         59954.787836      6.311828  \n",
       "min             0.040000      1.300000  \n",
       "25%          1695.710000     16.710000  \n",
       "50%         17517.760000     21.510000  \n",
       "75%         48687.880000     26.000000  \n",
       "max        367778.000000     30.650000  "
      ]
     },
     "execution_count": 790,
     "metadata": {},
     "output_type": "execute_result"
    }
   ],
   "source": [
    "yield_merged.describe()"
   ]
  },
  {
   "cell_type": "code",
   "execution_count": 791,
   "id": "cbabe5e0",
   "metadata": {},
   "outputs": [
    {
     "data": {
      "text/plain": [
       "array(['Albania', 'Algeria', 'Angola', 'Argentina', 'Armenia',\n",
       "       'Australia', 'Austria', 'Azerbaijan', 'Bahamas', 'Bahrain',\n",
       "       'Bangladesh', 'Belarus', 'Belgium', 'Botswana', 'Brazil',\n",
       "       'Bulgaria', 'Burkina Faso', 'Burundi', 'Cameroon', 'Canada',\n",
       "       'Central African Republic', 'Chile', 'Colombia', 'Croatia',\n",
       "       'Denmark', 'Dominican Republic', 'Ecuador', 'Egypt', 'El Salvador',\n",
       "       'Eritrea', 'Estonia', 'Finland', 'France', 'Germany', 'Ghana',\n",
       "       'Greece', 'Guatemala', 'Guinea', 'Guyana', 'Haiti', 'Honduras',\n",
       "       'Hungary', 'India', 'Indonesia', 'Iraq', 'Ireland', 'Italy',\n",
       "       'Jamaica', 'Japan', 'Kazakhstan', 'Kenya', 'Latvia', 'Lebanon',\n",
       "       'Lesotho', 'Libya', 'Lithuania', 'Madagascar', 'Malawi',\n",
       "       'Malaysia', 'Mali', 'Mauritania', 'Mauritius', 'Mexico',\n",
       "       'Montenegro', 'Morocco', 'Mozambique', 'Namibia', 'Nepal',\n",
       "       'Netherlands', 'New Zealand', 'Nicaragua', 'Niger', 'Norway',\n",
       "       'Pakistan', 'Papua New Guinea', 'Peru', 'Poland', 'Portugal',\n",
       "       'Qatar', 'Romania', 'Rwanda', 'Saudi Arabia', 'Senegal',\n",
       "       'Slovenia', 'South Africa', 'Spain', 'Sri Lanka', 'Sudan',\n",
       "       'Suriname', 'Sweden', 'Switzerland', 'Tajikistan', 'Thailand',\n",
       "       'Tunisia', 'Turkey', 'Uganda', 'Ukraine', 'United Kingdom',\n",
       "       'Uruguay', 'Zambia', 'Zimbabwe'], dtype=object)"
      ]
     },
     "execution_count": 791,
     "metadata": {},
     "output_type": "execute_result"
    }
   ],
   "source": [
    "yield_merged['Area'].unique()"
   ]
  },
  {
   "cell_type": "code",
   "execution_count": 792,
   "id": "4b91e6fb",
   "metadata": {},
   "outputs": [
    {
     "data": {
      "text/plain": [
       "101"
      ]
     },
     "execution_count": 792,
     "metadata": {},
     "output_type": "execute_result"
    }
   ],
   "source": [
    "yield_merged['Area'].nunique()"
   ]
  },
  {
   "cell_type": "code",
   "execution_count": 793,
   "id": "52fad932",
   "metadata": {},
   "outputs": [
    {
     "data": {
      "text/plain": [
       "array([1990, 1991, 1992, 1993, 1994, 1995, 1996, 1997, 1998, 1999, 2000,\n",
       "       2001, 2002, 2004, 2005, 2006, 2007, 2008, 2009, 2010, 2011, 2012,\n",
       "       2013], dtype=int64)"
      ]
     },
     "execution_count": 793,
     "metadata": {},
     "output_type": "execute_result"
    }
   ],
   "source": [
    "yield_merged['Year'].unique()"
   ]
  },
  {
   "cell_type": "code",
   "execution_count": 794,
   "id": "e79f7ad1",
   "metadata": {},
   "outputs": [
    {
     "data": {
      "text/plain": [
       "23"
      ]
     },
     "execution_count": 794,
     "metadata": {},
     "output_type": "execute_result"
    }
   ],
   "source": [
    "yield_merged['Year'].nunique()"
   ]
  },
  {
   "cell_type": "code",
   "execution_count": 795,
   "id": "1599c153",
   "metadata": {},
   "outputs": [
    {
     "data": {
      "text/plain": [
       "Area\n",
       "India             327420324\n",
       "Brazil            167550306\n",
       "Mexico            130788528\n",
       "Japan             124470912\n",
       "Australia         109111062\n",
       "Pakistan           73897434\n",
       "Indonesia          69193506\n",
       "United Kingdom     55419990\n",
       "Turkey             52263950\n",
       "Spain              46773540\n",
       "Name: yield, dtype: int64"
      ]
     },
     "execution_count": 795,
     "metadata": {},
     "output_type": "execute_result"
    }
   ],
   "source": [
    "yield_merged.groupby(['Area'],sort=True)['yield'].sum().nlargest(10)"
   ]
  },
  {
   "cell_type": "code",
   "execution_count": 796,
   "id": "4142fbb6",
   "metadata": {},
   "outputs": [
    {
     "data": {
      "text/plain": [
       "Item            Area          \n",
       "Cassava         India             142810624\n",
       "Potatoes        India              92122514\n",
       "                Brazil             49602168\n",
       "                United Kingdom     46705145\n",
       "                Australia          45670386\n",
       "Sweet potatoes  India              44439538\n",
       "Potatoes        Japan              42918726\n",
       "                Mexico             42053880\n",
       "Sweet potatoes  Mexico             35808592\n",
       "                Australia          35550294\n",
       "Name: yield, dtype: int64"
      ]
     },
     "execution_count": 796,
     "metadata": {},
     "output_type": "execute_result"
    }
   ],
   "source": [
    "yield_merged.groupby(['Item','Area'],sort=True)['yield'].sum().nlargest(10)"
   ]
  },
  {
   "cell_type": "code",
   "execution_count": 797,
   "id": "98526bf4",
   "metadata": {},
   "outputs": [
    {
     "name": "stderr",
     "output_type": "stream",
     "text": [
      "C:\\Users\\user\\AppData\\Local\\Temp/ipykernel_14864/1617655970.py:2: DeprecationWarning: `np.bool` is a deprecated alias for the builtin `bool`. To silence this warning, use `bool` by itself. Doing this will not modify any behavior and is safe. If you specifically wanted the numpy scalar type, use `np.bool_` here.\n",
      "Deprecated in NumPy 1.20; for more details and guidance: https://numpy.org/devdocs/release/1.20.0-notes.html#deprecations\n",
      "  mask = np.zeros_like(correlation_data, dtype=np.bool)\n"
     ]
    },
    {
     "data": {
      "image/png": "[encoded data removed]",
      "text/plain": [
       "<Figure size 792x648 with 2 Axes>"
      ]
     },
     "metadata": {
      "needs_background": "light"
     },
     "output_type": "display_data"
    }
   ],
   "source": [
    "correlation_data=yield_merged.select_dtypes(include=[np.number]).corr()\n",
    "mask = np.zeros_like(correlation_data, dtype=np.bool)\n",
    "mask[np.triu_indices_from(mask)] = True\n",
    "f, ax = plt.subplots(figsize=(11, 9))\n",
    "# Generate a custom diverging colormap\n",
    "cmap = sns.palette=\"vlag\"\n",
    "# Draw the heatmap with the mask and correct aspect ratio\n",
    "sns.heatmap(correlation_data, mask=mask, cmap=cmap, vmax=.3, center=0,\n",
    "            square=True, linewidths=.5, cbar_kws={\"shrink\": .5});"
   ]
  },
  {
   "cell_type": "code",
   "execution_count": 798,
   "id": "5d6ec9b7",
   "metadata": {},
   "outputs": [
    {
     "data": {
      "text/plain": [
       "<AxesSubplot:>"
      ]
     },
     "execution_count": 798,
     "metadata": {},
     "output_type": "execute_result"
    },
    {
     "data": {
      "image/png": "[encoded data removed]",
      "text/plain": [
       "<Figure size 720x360 with 2 Axes>"
      ]
     },
     "metadata": {
      "needs_background": "light"
     },
     "output_type": "display_data"
    }
   ],
   "source": [
    "plt.figure(figsize=[10,5])\n",
    "sb.heatmap(yield_merged.corr(),annot=True)"
   ]
  },
  {
   "cell_type": "code",
   "execution_count": 799,
   "id": "39f18afc",
   "metadata": {},
   "outputs": [
    {
     "data": {
      "text/plain": [
       "Area                              object\n",
       "Item                              object\n",
       "Year                               int64\n",
       "yield                              int64\n",
       "average_rain_fall_mm_per_year    float64\n",
       "pesticides_tonnes                float64\n",
       "avg_temp                         float64\n",
       "dtype: object"
      ]
     },
     "execution_count": 799,
     "metadata": {},
     "output_type": "execute_result"
    }
   ],
   "source": [
    "yield_merged.dtypes"
   ]
  },
  {
   "cell_type": "code",
   "execution_count": 800,
   "id": "77b22622",
   "metadata": {},
   "outputs": [],
   "source": [
    "from sklearn.preprocessing import OneHotEncoder"
   ]
  },
  {
   "cell_type": "code",
   "execution_count": 801,
   "id": "b7fcff0e",
   "metadata": {},
   "outputs": [],
   "source": [
    "yield_df_onehot = pd.get_dummies(yield_merged, columns=['Area',\"Item\"], prefix = ['Country',\"Item\"])"
   ]
  },
  {
   "cell_type": "code",
   "execution_count": 802,
   "id": "8f347243",
   "metadata": {},
   "outputs": [
    {
     "data": {
      "text/html": [
       "<div>\n",
       "<style scoped>\n",
       "    .dataframe tbody tr th:only-of-type {\n",
       "        vertical-align: middle;\n",
       "    }\n",
       "\n",
       "    .dataframe tbody tr th {\n",
       "        vertical-align: top;\n",
       "    }\n",
       "\n",
       "    .dataframe thead th {\n",
       "        text-align: right;\n",
       "    }\n",
       "</style>\n",
       "<table border=\"1\" class=\"dataframe\">\n",
       "  <thead>\n",
       "    <tr style=\"text-align: right;\">\n",
       "      <th></th>\n",
       "      <th>Year</th>\n",
       "      <th>yield</th>\n",
       "      <th>average_rain_fall_mm_per_year</th>\n",
       "      <th>pesticides_tonnes</th>\n",
       "      <th>avg_temp</th>\n",
       "      <th>Country_Albania</th>\n",
       "      <th>Country_Algeria</th>\n",
       "      <th>Country_Angola</th>\n",
       "      <th>Country_Argentina</th>\n",
       "      <th>Country_Armenia</th>\n",
       "      <th>...</th>\n",
       "      <th>Item_Cassava</th>\n",
       "      <th>Item_Maize</th>\n",
       "      <th>Item_Plantains and others</th>\n",
       "      <th>Item_Potatoes</th>\n",
       "      <th>Item_Rice, paddy</th>\n",
       "      <th>Item_Sorghum</th>\n",
       "      <th>Item_Soybeans</th>\n",
       "      <th>Item_Sweet potatoes</th>\n",
       "      <th>Item_Wheat</th>\n",
       "      <th>Item_Yams</th>\n",
       "    </tr>\n",
       "  </thead>\n",
       "  <tbody>\n",
       "    <tr>\n",
       "      <th>0</th>\n",
       "      <td>1990</td>\n",
       "      <td>36613</td>\n",
       "      <td>1485.0</td>\n",
       "      <td>121.0</td>\n",
       "      <td>16.37</td>\n",
       "      <td>1</td>\n",
       "      <td>0</td>\n",
       "      <td>0</td>\n",
       "      <td>0</td>\n",
       "      <td>0</td>\n",
       "      <td>...</td>\n",
       "      <td>0</td>\n",
       "      <td>1</td>\n",
       "      <td>0</td>\n",
       "      <td>0</td>\n",
       "      <td>0</td>\n",
       "      <td>0</td>\n",
       "      <td>0</td>\n",
       "      <td>0</td>\n",
       "      <td>0</td>\n",
       "      <td>0</td>\n",
       "    </tr>\n",
       "    <tr>\n",
       "      <th>1</th>\n",
       "      <td>1990</td>\n",
       "      <td>66667</td>\n",
       "      <td>1485.0</td>\n",
       "      <td>121.0</td>\n",
       "      <td>16.37</td>\n",
       "      <td>1</td>\n",
       "      <td>0</td>\n",
       "      <td>0</td>\n",
       "      <td>0</td>\n",
       "      <td>0</td>\n",
       "      <td>...</td>\n",
       "      <td>0</td>\n",
       "      <td>0</td>\n",
       "      <td>0</td>\n",
       "      <td>1</td>\n",
       "      <td>0</td>\n",
       "      <td>0</td>\n",
       "      <td>0</td>\n",
       "      <td>0</td>\n",
       "      <td>0</td>\n",
       "      <td>0</td>\n",
       "    </tr>\n",
       "    <tr>\n",
       "      <th>2</th>\n",
       "      <td>1990</td>\n",
       "      <td>23333</td>\n",
       "      <td>1485.0</td>\n",
       "      <td>121.0</td>\n",
       "      <td>16.37</td>\n",
       "      <td>1</td>\n",
       "      <td>0</td>\n",
       "      <td>0</td>\n",
       "      <td>0</td>\n",
       "      <td>0</td>\n",
       "      <td>...</td>\n",
       "      <td>0</td>\n",
       "      <td>0</td>\n",
       "      <td>0</td>\n",
       "      <td>0</td>\n",
       "      <td>1</td>\n",
       "      <td>0</td>\n",
       "      <td>0</td>\n",
       "      <td>0</td>\n",
       "      <td>0</td>\n",
       "      <td>0</td>\n",
       "    </tr>\n",
       "    <tr>\n",
       "      <th>3</th>\n",
       "      <td>1990</td>\n",
       "      <td>12500</td>\n",
       "      <td>1485.0</td>\n",
       "      <td>121.0</td>\n",
       "      <td>16.37</td>\n",
       "      <td>1</td>\n",
       "      <td>0</td>\n",
       "      <td>0</td>\n",
       "      <td>0</td>\n",
       "      <td>0</td>\n",
       "      <td>...</td>\n",
       "      <td>0</td>\n",
       "      <td>0</td>\n",
       "      <td>0</td>\n",
       "      <td>0</td>\n",
       "      <td>0</td>\n",
       "      <td>1</td>\n",
       "      <td>0</td>\n",
       "      <td>0</td>\n",
       "      <td>0</td>\n",
       "      <td>0</td>\n",
       "    </tr>\n",
       "    <tr>\n",
       "      <th>4</th>\n",
       "      <td>1990</td>\n",
       "      <td>7000</td>\n",
       "      <td>1485.0</td>\n",
       "      <td>121.0</td>\n",
       "      <td>16.37</td>\n",
       "      <td>1</td>\n",
       "      <td>0</td>\n",
       "      <td>0</td>\n",
       "      <td>0</td>\n",
       "      <td>0</td>\n",
       "      <td>...</td>\n",
       "      <td>0</td>\n",
       "      <td>0</td>\n",
       "      <td>0</td>\n",
       "      <td>0</td>\n",
       "      <td>0</td>\n",
       "      <td>0</td>\n",
       "      <td>1</td>\n",
       "      <td>0</td>\n",
       "      <td>0</td>\n",
       "      <td>0</td>\n",
       "    </tr>\n",
       "  </tbody>\n",
       "</table>\n",
       "<p>5 rows × 116 columns</p>\n",
       "</div>"
      ],
      "text/plain": [
       "   Year  yield  average_rain_fall_mm_per_year  pesticides_tonnes  avg_temp  \\\n",
       "0  1990  36613                         1485.0              121.0     16.37   \n",
       "1  1990  66667                         1485.0              121.0     16.37   \n",
       "2  1990  23333                         1485.0              121.0     16.37   \n",
       "3  1990  12500                         1485.0              121.0     16.37   \n",
       "4  1990   7000                         1485.0              121.0     16.37   \n",
       "\n",
       "   Country_Albania  Country_Algeria  Country_Angola  Country_Argentina  \\\n",
       "0                1                0               0                  0   \n",
       "1                1                0               0                  0   \n",
       "2                1                0               0                  0   \n",
       "3                1                0               0                  0   \n",
       "4                1                0               0                  0   \n",
       "\n",
       "   Country_Armenia  ...  Item_Cassava  Item_Maize  Item_Plantains and others  \\\n",
       "0                0  ...             0           1                          0   \n",
       "1                0  ...             0           0                          0   \n",
       "2                0  ...             0           0                          0   \n",
       "3                0  ...             0           0                          0   \n",
       "4                0  ...             0           0                          0   \n",
       "\n",
       "   Item_Potatoes  Item_Rice, paddy  Item_Sorghum  Item_Soybeans  \\\n",
       "0              0                 0             0              0   \n",
       "1              1                 0             0              0   \n",
       "2              0                 1             0              0   \n",
       "3              0                 0             1              0   \n",
       "4              0                 0             0              1   \n",
       "\n",
       "   Item_Sweet potatoes  Item_Wheat  Item_Yams  \n",
       "0                    0           0          0  \n",
       "1                    0           0          0  \n",
       "2                    0           0          0  \n",
       "3                    0           0          0  \n",
       "4                    0           0          0  \n",
       "\n",
       "[5 rows x 116 columns]"
      ]
     },
     "execution_count": 802,
     "metadata": {},
     "output_type": "execute_result"
    }
   ],
   "source": [
    "yield_df_onehot.head()"
   ]
  },
  {
   "cell_type": "code",
   "execution_count": 803,
   "id": "84c0954b",
   "metadata": {},
   "outputs": [
    {
     "data": {
      "text/plain": [
       "(28248, 116)"
      ]
     },
     "execution_count": 803,
     "metadata": {},
     "output_type": "execute_result"
    }
   ],
   "source": [
    "yield_df_onehot.shape"
   ]
  },
  {
   "cell_type": "code",
   "execution_count": 804,
   "id": "1900a05b",
   "metadata": {},
   "outputs": [],
   "source": [
    "features=yield_df_onehot.loc[:, yield_df_onehot.columns]"
   ]
  },
  {
   "cell_type": "code",
   "execution_count": 805,
   "id": "2513005a",
   "metadata": {
    "scrolled": true
   },
   "outputs": [
    {
     "data": {
      "text/html": [
       "<div>\n",
       "<style scoped>\n",
       "    .dataframe tbody tr th:only-of-type {\n",
       "        vertical-align: middle;\n",
       "    }\n",
       "\n",
       "    .dataframe tbody tr th {\n",
       "        vertical-align: top;\n",
       "    }\n",
       "\n",
       "    .dataframe thead th {\n",
       "        text-align: right;\n",
       "    }\n",
       "</style>\n",
       "<table border=\"1\" class=\"dataframe\">\n",
       "  <thead>\n",
       "    <tr style=\"text-align: right;\">\n",
       "      <th></th>\n",
       "      <th>Year</th>\n",
       "      <th>yield</th>\n",
       "      <th>average_rain_fall_mm_per_year</th>\n",
       "      <th>pesticides_tonnes</th>\n",
       "      <th>avg_temp</th>\n",
       "      <th>Country_Albania</th>\n",
       "      <th>Country_Algeria</th>\n",
       "      <th>Country_Angola</th>\n",
       "      <th>Country_Argentina</th>\n",
       "      <th>Country_Armenia</th>\n",
       "      <th>...</th>\n",
       "      <th>Item_Cassava</th>\n",
       "      <th>Item_Maize</th>\n",
       "      <th>Item_Plantains and others</th>\n",
       "      <th>Item_Potatoes</th>\n",
       "      <th>Item_Rice, paddy</th>\n",
       "      <th>Item_Sorghum</th>\n",
       "      <th>Item_Soybeans</th>\n",
       "      <th>Item_Sweet potatoes</th>\n",
       "      <th>Item_Wheat</th>\n",
       "      <th>Item_Yams</th>\n",
       "    </tr>\n",
       "  </thead>\n",
       "  <tbody>\n",
       "    <tr>\n",
       "      <th>0</th>\n",
       "      <td>1990</td>\n",
       "      <td>36613</td>\n",
       "      <td>1485.0</td>\n",
       "      <td>121.00</td>\n",
       "      <td>16.37</td>\n",
       "      <td>1</td>\n",
       "      <td>0</td>\n",
       "      <td>0</td>\n",
       "      <td>0</td>\n",
       "      <td>0</td>\n",
       "      <td>...</td>\n",
       "      <td>0</td>\n",
       "      <td>1</td>\n",
       "      <td>0</td>\n",
       "      <td>0</td>\n",
       "      <td>0</td>\n",
       "      <td>0</td>\n",
       "      <td>0</td>\n",
       "      <td>0</td>\n",
       "      <td>0</td>\n",
       "      <td>0</td>\n",
       "    </tr>\n",
       "    <tr>\n",
       "      <th>1</th>\n",
       "      <td>1990</td>\n",
       "      <td>66667</td>\n",
       "      <td>1485.0</td>\n",
       "      <td>121.00</td>\n",
       "      <td>16.37</td>\n",
       "      <td>1</td>\n",
       "      <td>0</td>\n",
       "      <td>0</td>\n",
       "      <td>0</td>\n",
       "      <td>0</td>\n",
       "      <td>...</td>\n",
       "      <td>0</td>\n",
       "      <td>0</td>\n",
       "      <td>0</td>\n",
       "      <td>1</td>\n",
       "      <td>0</td>\n",
       "      <td>0</td>\n",
       "      <td>0</td>\n",
       "      <td>0</td>\n",
       "      <td>0</td>\n",
       "      <td>0</td>\n",
       "    </tr>\n",
       "    <tr>\n",
       "      <th>2</th>\n",
       "      <td>1990</td>\n",
       "      <td>23333</td>\n",
       "      <td>1485.0</td>\n",
       "      <td>121.00</td>\n",
       "      <td>16.37</td>\n",
       "      <td>1</td>\n",
       "      <td>0</td>\n",
       "      <td>0</td>\n",
       "      <td>0</td>\n",
       "      <td>0</td>\n",
       "      <td>...</td>\n",
       "      <td>0</td>\n",
       "      <td>0</td>\n",
       "      <td>0</td>\n",
       "      <td>0</td>\n",
       "      <td>1</td>\n",
       "      <td>0</td>\n",
       "      <td>0</td>\n",
       "      <td>0</td>\n",
       "      <td>0</td>\n",
       "      <td>0</td>\n",
       "    </tr>\n",
       "    <tr>\n",
       "      <th>3</th>\n",
       "      <td>1990</td>\n",
       "      <td>12500</td>\n",
       "      <td>1485.0</td>\n",
       "      <td>121.00</td>\n",
       "      <td>16.37</td>\n",
       "      <td>1</td>\n",
       "      <td>0</td>\n",
       "      <td>0</td>\n",
       "      <td>0</td>\n",
       "      <td>0</td>\n",
       "      <td>...</td>\n",
       "      <td>0</td>\n",
       "      <td>0</td>\n",
       "      <td>0</td>\n",
       "      <td>0</td>\n",
       "      <td>0</td>\n",
       "      <td>1</td>\n",
       "      <td>0</td>\n",
       "      <td>0</td>\n",
       "      <td>0</td>\n",
       "      <td>0</td>\n",
       "    </tr>\n",
       "    <tr>\n",
       "      <th>4</th>\n",
       "      <td>1990</td>\n",
       "      <td>7000</td>\n",
       "      <td>1485.0</td>\n",
       "      <td>121.00</td>\n",
       "      <td>16.37</td>\n",
       "      <td>1</td>\n",
       "      <td>0</td>\n",
       "      <td>0</td>\n",
       "      <td>0</td>\n",
       "      <td>0</td>\n",
       "      <td>...</td>\n",
       "      <td>0</td>\n",
       "      <td>0</td>\n",
       "      <td>0</td>\n",
       "      <td>0</td>\n",
       "      <td>0</td>\n",
       "      <td>0</td>\n",
       "      <td>1</td>\n",
       "      <td>0</td>\n",
       "      <td>0</td>\n",
       "      <td>0</td>\n",
       "    </tr>\n",
       "    <tr>\n",
       "      <th>...</th>\n",
       "      <td>...</td>\n",
       "      <td>...</td>\n",
       "      <td>...</td>\n",
       "      <td>...</td>\n",
       "      <td>...</td>\n",
       "      <td>...</td>\n",
       "      <td>...</td>\n",
       "      <td>...</td>\n",
       "      <td>...</td>\n",
       "      <td>...</td>\n",
       "      <td>...</td>\n",
       "      <td>...</td>\n",
       "      <td>...</td>\n",
       "      <td>...</td>\n",
       "      <td>...</td>\n",
       "      <td>...</td>\n",
       "      <td>...</td>\n",
       "      <td>...</td>\n",
       "      <td>...</td>\n",
       "      <td>...</td>\n",
       "      <td>...</td>\n",
       "    </tr>\n",
       "    <tr>\n",
       "      <th>28243</th>\n",
       "      <td>2013</td>\n",
       "      <td>22581</td>\n",
       "      <td>657.0</td>\n",
       "      <td>2550.07</td>\n",
       "      <td>19.76</td>\n",
       "      <td>0</td>\n",
       "      <td>0</td>\n",
       "      <td>0</td>\n",
       "      <td>0</td>\n",
       "      <td>0</td>\n",
       "      <td>...</td>\n",
       "      <td>0</td>\n",
       "      <td>0</td>\n",
       "      <td>0</td>\n",
       "      <td>0</td>\n",
       "      <td>1</td>\n",
       "      <td>0</td>\n",
       "      <td>0</td>\n",
       "      <td>0</td>\n",
       "      <td>0</td>\n",
       "      <td>0</td>\n",
       "    </tr>\n",
       "    <tr>\n",
       "      <th>28244</th>\n",
       "      <td>2013</td>\n",
       "      <td>3066</td>\n",
       "      <td>657.0</td>\n",
       "      <td>2550.07</td>\n",
       "      <td>19.76</td>\n",
       "      <td>0</td>\n",
       "      <td>0</td>\n",
       "      <td>0</td>\n",
       "      <td>0</td>\n",
       "      <td>0</td>\n",
       "      <td>...</td>\n",
       "      <td>0</td>\n",
       "      <td>0</td>\n",
       "      <td>0</td>\n",
       "      <td>0</td>\n",
       "      <td>0</td>\n",
       "      <td>1</td>\n",
       "      <td>0</td>\n",
       "      <td>0</td>\n",
       "      <td>0</td>\n",
       "      <td>0</td>\n",
       "    </tr>\n",
       "    <tr>\n",
       "      <th>28245</th>\n",
       "      <td>2013</td>\n",
       "      <td>13142</td>\n",
       "      <td>657.0</td>\n",
       "      <td>2550.07</td>\n",
       "      <td>19.76</td>\n",
       "      <td>0</td>\n",
       "      <td>0</td>\n",
       "      <td>0</td>\n",
       "      <td>0</td>\n",
       "      <td>0</td>\n",
       "      <td>...</td>\n",
       "      <td>0</td>\n",
       "      <td>0</td>\n",
       "      <td>0</td>\n",
       "      <td>0</td>\n",
       "      <td>0</td>\n",
       "      <td>0</td>\n",
       "      <td>1</td>\n",
       "      <td>0</td>\n",
       "      <td>0</td>\n",
       "      <td>0</td>\n",
       "    </tr>\n",
       "    <tr>\n",
       "      <th>28246</th>\n",
       "      <td>2013</td>\n",
       "      <td>22222</td>\n",
       "      <td>657.0</td>\n",
       "      <td>2550.07</td>\n",
       "      <td>19.76</td>\n",
       "      <td>0</td>\n",
       "      <td>0</td>\n",
       "      <td>0</td>\n",
       "      <td>0</td>\n",
       "      <td>0</td>\n",
       "      <td>...</td>\n",
       "      <td>0</td>\n",
       "      <td>0</td>\n",
       "      <td>0</td>\n",
       "      <td>0</td>\n",
       "      <td>0</td>\n",
       "      <td>0</td>\n",
       "      <td>0</td>\n",
       "      <td>1</td>\n",
       "      <td>0</td>\n",
       "      <td>0</td>\n",
       "    </tr>\n",
       "    <tr>\n",
       "      <th>28247</th>\n",
       "      <td>2013</td>\n",
       "      <td>22888</td>\n",
       "      <td>657.0</td>\n",
       "      <td>2550.07</td>\n",
       "      <td>19.76</td>\n",
       "      <td>0</td>\n",
       "      <td>0</td>\n",
       "      <td>0</td>\n",
       "      <td>0</td>\n",
       "      <td>0</td>\n",
       "      <td>...</td>\n",
       "      <td>0</td>\n",
       "      <td>0</td>\n",
       "      <td>0</td>\n",
       "      <td>0</td>\n",
       "      <td>0</td>\n",
       "      <td>0</td>\n",
       "      <td>0</td>\n",
       "      <td>0</td>\n",
       "      <td>1</td>\n",
       "      <td>0</td>\n",
       "    </tr>\n",
       "  </tbody>\n",
       "</table>\n",
       "<p>28248 rows × 116 columns</p>\n",
       "</div>"
      ],
      "text/plain": [
       "       Year  yield  average_rain_fall_mm_per_year  pesticides_tonnes  \\\n",
       "0      1990  36613                         1485.0             121.00   \n",
       "1      1990  66667                         1485.0             121.00   \n",
       "2      1990  23333                         1485.0             121.00   \n",
       "3      1990  12500                         1485.0             121.00   \n",
       "4      1990   7000                         1485.0             121.00   \n",
       "...     ...    ...                            ...                ...   \n",
       "28243  2013  22581                          657.0            2550.07   \n",
       "28244  2013   3066                          657.0            2550.07   \n",
       "28245  2013  13142                          657.0            2550.07   \n",
       "28246  2013  22222                          657.0            2550.07   \n",
       "28247  2013  22888                          657.0            2550.07   \n",
       "\n",
       "       avg_temp  Country_Albania  Country_Algeria  Country_Angola  \\\n",
       "0         16.37                1                0               0   \n",
       "1         16.37                1                0               0   \n",
       "2         16.37                1                0               0   \n",
       "3         16.37                1                0               0   \n",
       "4         16.37                1                0               0   \n",
       "...         ...              ...              ...             ...   \n",
       "28243     19.76                0                0               0   \n",
       "28244     19.76                0                0               0   \n",
       "28245     19.76                0                0               0   \n",
       "28246     19.76                0                0               0   \n",
       "28247     19.76                0                0               0   \n",
       "\n",
       "       Country_Argentina  Country_Armenia  ...  Item_Cassava  Item_Maize  \\\n",
       "0                      0                0  ...             0           1   \n",
       "1                      0                0  ...             0           0   \n",
       "2                      0                0  ...             0           0   \n",
       "3                      0                0  ...             0           0   \n",
       "4                      0                0  ...             0           0   \n",
       "...                  ...              ...  ...           ...         ...   \n",
       "28243                  0                0  ...             0           0   \n",
       "28244                  0                0  ...             0           0   \n",
       "28245                  0                0  ...             0           0   \n",
       "28246                  0                0  ...             0           0   \n",
       "28247                  0                0  ...             0           0   \n",
       "\n",
       "       Item_Plantains and others  Item_Potatoes  Item_Rice, paddy  \\\n",
       "0                              0              0                 0   \n",
       "1                              0              1                 0   \n",
       "2                              0              0                 1   \n",
       "3                              0              0                 0   \n",
       "4                              0              0                 0   \n",
       "...                          ...            ...               ...   \n",
       "28243                          0              0                 1   \n",
       "28244                          0              0                 0   \n",
       "28245                          0              0                 0   \n",
       "28246                          0              0                 0   \n",
       "28247                          0              0                 0   \n",
       "\n",
       "       Item_Sorghum  Item_Soybeans  Item_Sweet potatoes  Item_Wheat  Item_Yams  \n",
       "0                 0              0                    0           0          0  \n",
       "1                 0              0                    0           0          0  \n",
       "2                 0              0                    0           0          0  \n",
       "3                 1              0                    0           0          0  \n",
       "4                 0              1                    0           0          0  \n",
       "...             ...            ...                  ...         ...        ...  \n",
       "28243             0              0                    0           0          0  \n",
       "28244             1              0                    0           0          0  \n",
       "28245             0              1                    0           0          0  \n",
       "28246             0              0                    1           0          0  \n",
       "28247             0              0                    0           1          0  \n",
       "\n",
       "[28248 rows x 116 columns]"
      ]
     },
     "execution_count": 805,
     "metadata": {},
     "output_type": "execute_result"
    }
   ],
   "source": [
    "features"
   ]
  },
  {
   "cell_type": "code",
   "execution_count": 806,
   "id": "2cb3f38f",
   "metadata": {},
   "outputs": [
    {
     "data": {
      "text/plain": [
       "Year                             0\n",
       "yield                            0\n",
       "average_rain_fall_mm_per_year    6\n",
       "pesticides_tonnes                0\n",
       "avg_temp                         0\n",
       "                                ..\n",
       "Item_Sorghum                     0\n",
       "Item_Soybeans                    0\n",
       "Item_Sweet potatoes              0\n",
       "Item_Wheat                       0\n",
       "Item_Yams                        0\n",
       "Length: 116, dtype: int64"
      ]
     },
     "execution_count": 806,
     "metadata": {},
     "output_type": "execute_result"
    }
   ],
   "source": [
    "features.isnull().sum()"
   ]
  },
  {
   "cell_type": "code",
   "execution_count": 807,
   "id": "7fc956d2",
   "metadata": {},
   "outputs": [],
   "source": [
    "features = features.dropna()"
   ]
  },
  {
   "cell_type": "code",
   "execution_count": 808,
   "id": "522c10a1",
   "metadata": {},
   "outputs": [
    {
     "data": {
      "text/plain": [
       "Year                             0\n",
       "yield                            0\n",
       "average_rain_fall_mm_per_year    0\n",
       "pesticides_tonnes                0\n",
       "avg_temp                         0\n",
       "                                ..\n",
       "Item_Sorghum                     0\n",
       "Item_Soybeans                    0\n",
       "Item_Sweet potatoes              0\n",
       "Item_Wheat                       0\n",
       "Item_Yams                        0\n",
       "Length: 116, dtype: int64"
      ]
     },
     "execution_count": 808,
     "metadata": {},
     "output_type": "execute_result"
    }
   ],
   "source": [
    "features.isnull().sum()"
   ]
  },
  {
   "cell_type": "code",
   "execution_count": 809,
   "id": "0204f842",
   "metadata": {},
   "outputs": [
    {
     "data": {
      "text/plain": [
       "0    36613\n",
       "1    66667\n",
       "2    23333\n",
       "3    12500\n",
       "4     7000\n",
       "Name: yield, dtype: int64"
      ]
     },
     "execution_count": 809,
     "metadata": {},
     "output_type": "execute_result"
    }
   ],
   "source": [
    "label=yield_merged['yield']\n",
    "label.head()"
   ]
  },
  {
   "cell_type": "code",
   "execution_count": 810,
   "id": "595e8590",
   "metadata": {},
   "outputs": [
    {
     "data": {
      "text/plain": [
       "0"
      ]
     },
     "execution_count": 810,
     "metadata": {},
     "output_type": "execute_result"
    }
   ],
   "source": [
    "label.isnull().sum()"
   ]
  },
  {
   "cell_type": "code",
   "execution_count": 811,
   "id": "a2b6708b",
   "metadata": {},
   "outputs": [],
   "source": [
    "features = features.drop(['Year'], axis=1)"
   ]
  },
  {
   "cell_type": "code",
   "execution_count": 812,
   "id": "199c717d",
   "metadata": {},
   "outputs": [
    {
     "data": {
      "text/plain": [
       "yield                            0\n",
       "average_rain_fall_mm_per_year    0\n",
       "pesticides_tonnes                0\n",
       "avg_temp                         0\n",
       "Country_Albania                  0\n",
       "                                ..\n",
       "Item_Sorghum                     0\n",
       "Item_Soybeans                    0\n",
       "Item_Sweet potatoes              0\n",
       "Item_Wheat                       0\n",
       "Item_Yams                        0\n",
       "Length: 115, dtype: int64"
      ]
     },
     "execution_count": 812,
     "metadata": {},
     "output_type": "execute_result"
    }
   ],
   "source": [
    "features.isnull().sum()"
   ]
  },
  {
   "cell_type": "code",
   "execution_count": 813,
   "id": "9a0dbd2a",
   "metadata": {},
   "outputs": [
    {
     "name": "stdout",
     "output_type": "stream",
     "text": [
      "<class 'pandas.core.frame.DataFrame'>\n",
      "Int64Index: 28242 entries, 0 to 28247\n",
      "Columns: 115 entries, yield to Item_Yams\n",
      "dtypes: float64(3), int64(1), uint8(111)\n",
      "memory usage: 4.1 MB\n"
     ]
    }
   ],
   "source": [
    "features.info()"
   ]
  },
  {
   "cell_type": "code",
   "execution_count": 814,
   "id": "7552f69c",
   "metadata": {},
   "outputs": [
    {
     "data": {
      "text/html": [
       "<div>\n",
       "<style scoped>\n",
       "    .dataframe tbody tr th:only-of-type {\n",
       "        vertical-align: middle;\n",
       "    }\n",
       "\n",
       "    .dataframe tbody tr th {\n",
       "        vertical-align: top;\n",
       "    }\n",
       "\n",
       "    .dataframe thead th {\n",
       "        text-align: right;\n",
       "    }\n",
       "</style>\n",
       "<table border=\"1\" class=\"dataframe\">\n",
       "  <thead>\n",
       "    <tr style=\"text-align: right;\">\n",
       "      <th></th>\n",
       "      <th>yield</th>\n",
       "      <th>average_rain_fall_mm_per_year</th>\n",
       "      <th>pesticides_tonnes</th>\n",
       "      <th>avg_temp</th>\n",
       "      <th>Country_Albania</th>\n",
       "      <th>Country_Algeria</th>\n",
       "      <th>Country_Angola</th>\n",
       "      <th>Country_Argentina</th>\n",
       "      <th>Country_Armenia</th>\n",
       "      <th>Country_Australia</th>\n",
       "      <th>...</th>\n",
       "      <th>Item_Cassava</th>\n",
       "      <th>Item_Maize</th>\n",
       "      <th>Item_Plantains and others</th>\n",
       "      <th>Item_Potatoes</th>\n",
       "      <th>Item_Rice, paddy</th>\n",
       "      <th>Item_Sorghum</th>\n",
       "      <th>Item_Soybeans</th>\n",
       "      <th>Item_Sweet potatoes</th>\n",
       "      <th>Item_Wheat</th>\n",
       "      <th>Item_Yams</th>\n",
       "    </tr>\n",
       "  </thead>\n",
       "  <tbody>\n",
       "    <tr>\n",
       "      <th>0</th>\n",
       "      <td>36613</td>\n",
       "      <td>1485.0</td>\n",
       "      <td>121.0</td>\n",
       "      <td>16.37</td>\n",
       "      <td>1</td>\n",
       "      <td>0</td>\n",
       "      <td>0</td>\n",
       "      <td>0</td>\n",
       "      <td>0</td>\n",
       "      <td>0</td>\n",
       "      <td>...</td>\n",
       "      <td>0</td>\n",
       "      <td>1</td>\n",
       "      <td>0</td>\n",
       "      <td>0</td>\n",
       "      <td>0</td>\n",
       "      <td>0</td>\n",
       "      <td>0</td>\n",
       "      <td>0</td>\n",
       "      <td>0</td>\n",
       "      <td>0</td>\n",
       "    </tr>\n",
       "    <tr>\n",
       "      <th>1</th>\n",
       "      <td>66667</td>\n",
       "      <td>1485.0</td>\n",
       "      <td>121.0</td>\n",
       "      <td>16.37</td>\n",
       "      <td>1</td>\n",
       "      <td>0</td>\n",
       "      <td>0</td>\n",
       "      <td>0</td>\n",
       "      <td>0</td>\n",
       "      <td>0</td>\n",
       "      <td>...</td>\n",
       "      <td>0</td>\n",
       "      <td>0</td>\n",
       "      <td>0</td>\n",
       "      <td>1</td>\n",
       "      <td>0</td>\n",
       "      <td>0</td>\n",
       "      <td>0</td>\n",
       "      <td>0</td>\n",
       "      <td>0</td>\n",
       "      <td>0</td>\n",
       "    </tr>\n",
       "    <tr>\n",
       "      <th>2</th>\n",
       "      <td>23333</td>\n",
       "      <td>1485.0</td>\n",
       "      <td>121.0</td>\n",
       "      <td>16.37</td>\n",
       "      <td>1</td>\n",
       "      <td>0</td>\n",
       "      <td>0</td>\n",
       "      <td>0</td>\n",
       "      <td>0</td>\n",
       "      <td>0</td>\n",
       "      <td>...</td>\n",
       "      <td>0</td>\n",
       "      <td>0</td>\n",
       "      <td>0</td>\n",
       "      <td>0</td>\n",
       "      <td>1</td>\n",
       "      <td>0</td>\n",
       "      <td>0</td>\n",
       "      <td>0</td>\n",
       "      <td>0</td>\n",
       "      <td>0</td>\n",
       "    </tr>\n",
       "    <tr>\n",
       "      <th>3</th>\n",
       "      <td>12500</td>\n",
       "      <td>1485.0</td>\n",
       "      <td>121.0</td>\n",
       "      <td>16.37</td>\n",
       "      <td>1</td>\n",
       "      <td>0</td>\n",
       "      <td>0</td>\n",
       "      <td>0</td>\n",
       "      <td>0</td>\n",
       "      <td>0</td>\n",
       "      <td>...</td>\n",
       "      <td>0</td>\n",
       "      <td>0</td>\n",
       "      <td>0</td>\n",
       "      <td>0</td>\n",
       "      <td>0</td>\n",
       "      <td>1</td>\n",
       "      <td>0</td>\n",
       "      <td>0</td>\n",
       "      <td>0</td>\n",
       "      <td>0</td>\n",
       "    </tr>\n",
       "    <tr>\n",
       "      <th>4</th>\n",
       "      <td>7000</td>\n",
       "      <td>1485.0</td>\n",
       "      <td>121.0</td>\n",
       "      <td>16.37</td>\n",
       "      <td>1</td>\n",
       "      <td>0</td>\n",
       "      <td>0</td>\n",
       "      <td>0</td>\n",
       "      <td>0</td>\n",
       "      <td>0</td>\n",
       "      <td>...</td>\n",
       "      <td>0</td>\n",
       "      <td>0</td>\n",
       "      <td>0</td>\n",
       "      <td>0</td>\n",
       "      <td>0</td>\n",
       "      <td>0</td>\n",
       "      <td>1</td>\n",
       "      <td>0</td>\n",
       "      <td>0</td>\n",
       "      <td>0</td>\n",
       "    </tr>\n",
       "  </tbody>\n",
       "</table>\n",
       "<p>5 rows × 115 columns</p>\n",
       "</div>"
      ],
      "text/plain": [
       "   yield  average_rain_fall_mm_per_year  pesticides_tonnes  avg_temp  \\\n",
       "0  36613                         1485.0              121.0     16.37   \n",
       "1  66667                         1485.0              121.0     16.37   \n",
       "2  23333                         1485.0              121.0     16.37   \n",
       "3  12500                         1485.0              121.0     16.37   \n",
       "4   7000                         1485.0              121.0     16.37   \n",
       "\n",
       "   Country_Albania  Country_Algeria  Country_Angola  Country_Argentina  \\\n",
       "0                1                0               0                  0   \n",
       "1                1                0               0                  0   \n",
       "2                1                0               0                  0   \n",
       "3                1                0               0                  0   \n",
       "4                1                0               0                  0   \n",
       "\n",
       "   Country_Armenia  Country_Australia  ...  Item_Cassava  Item_Maize  \\\n",
       "0                0                  0  ...             0           1   \n",
       "1                0                  0  ...             0           0   \n",
       "2                0                  0  ...             0           0   \n",
       "3                0                  0  ...             0           0   \n",
       "4                0                  0  ...             0           0   \n",
       "\n",
       "   Item_Plantains and others  Item_Potatoes  Item_Rice, paddy  Item_Sorghum  \\\n",
       "0                          0              0                 0             0   \n",
       "1                          0              1                 0             0   \n",
       "2                          0              0                 1             0   \n",
       "3                          0              0                 0             1   \n",
       "4                          0              0                 0             0   \n",
       "\n",
       "   Item_Soybeans  Item_Sweet potatoes  Item_Wheat  Item_Yams  \n",
       "0              0                    0           0          0  \n",
       "1              0                    0           0          0  \n",
       "2              0                    0           0          0  \n",
       "3              0                    0           0          0  \n",
       "4              1                    0           0          0  \n",
       "\n",
       "[5 rows x 115 columns]"
      ]
     },
     "execution_count": 814,
     "metadata": {},
     "output_type": "execute_result"
    }
   ],
   "source": [
    "features.head()"
   ]
  },
  {
   "cell_type": "code",
   "execution_count": 815,
   "id": "1ba0cb59",
   "metadata": {},
   "outputs": [],
   "source": [
    "x = features.drop(['yield'], axis=1)"
   ]
  },
  {
   "cell_type": "code",
   "execution_count": 816,
   "id": "ed470fba",
   "metadata": {},
   "outputs": [],
   "source": [
    "y= features['yield']"
   ]
  },
  {
   "cell_type": "code",
   "execution_count": 817,
   "id": "d34196b1",
   "metadata": {},
   "outputs": [
    {
     "data": {
      "text/plain": [
       "(28242, 114)"
      ]
     },
     "execution_count": 817,
     "metadata": {},
     "output_type": "execute_result"
    }
   ],
   "source": [
    "x.shape"
   ]
  },
  {
   "cell_type": "code",
   "execution_count": 818,
   "id": "b6d463c4",
   "metadata": {},
   "outputs": [
    {
     "data": {
      "text/plain": [
       "(28242,)"
      ]
     },
     "execution_count": 818,
     "metadata": {},
     "output_type": "execute_result"
    }
   ],
   "source": [
    "y.shape"
   ]
  },
  {
   "cell_type": "code",
   "execution_count": 819,
   "id": "1643c5d9",
   "metadata": {},
   "outputs": [
    {
     "data": {
      "text/plain": [
       "<AxesSubplot:ylabel='Frequency'>"
      ]
     },
     "execution_count": 819,
     "metadata": {},
     "output_type": "execute_result"
    },
    {
     "data": {
      "image/png": "[encoded data removed]",
      "text/plain": [
       "<Figure size 720x360 with 1 Axes>"
      ]
     },
     "metadata": {
      "needs_background": "light"
     },
     "output_type": "display_data"
    }
   ],
   "source": [
    "plt.figure(figsize=(10,5))\n",
    "yield_merged['yield'].plot(kind=\"hist\")"
   ]
  },
  {
   "cell_type": "code",
   "execution_count": 847,
   "id": "d1a4c811",
   "metadata": {},
   "outputs": [],
   "source": [
    "x_train,x_test,y_train,y_test=train_test_split(x,y,test_size=0.3)"
   ]
  },
  {
   "cell_type": "code",
   "execution_count": 848,
   "id": "1c873d4d",
   "metadata": {},
   "outputs": [
    {
     "name": "stdout",
     "output_type": "stream",
     "text": [
      "(19769, 114) (19769,)\n",
      "(8473, 114) (8473,)\n"
     ]
    }
   ],
   "source": [
    "print(x_train.shape,y_train.shape)\n",
    "print(x_test.shape,y_test.shape)"
   ]
  },
  {
   "cell_type": "code",
   "execution_count": 849,
   "id": "a7a37d81",
   "metadata": {},
   "outputs": [],
   "source": [
    "lr=linear_model.LinearRegression()"
   ]
  },
  {
   "cell_type": "code",
   "execution_count": 850,
   "id": "2e830908",
   "metadata": {},
   "outputs": [],
   "source": [
    "lr_model=lr.fit(x_train,y_train)"
   ]
  },
  {
   "cell_type": "code",
   "execution_count": 867,
   "id": "fe33d236",
   "metadata": {},
   "outputs": [],
   "source": [
    "predict=lr.predict(x_test)"
   ]
  },
  {
   "cell_type": "code",
   "execution_count": 868,
   "id": "79cf1ecf",
   "metadata": {},
   "outputs": [
    {
     "data": {
      "text/plain": [
       "array([ 23503.84046672, 177231.26337522,  30405.69097499, 218259.89135314,\n",
       "        94304.66802445,  26051.22974882,  47187.74136099, 232781.14489142,\n",
       "        28603.77500984, 204828.0064522 ])"
      ]
     },
     "execution_count": 868,
     "metadata": {},
     "output_type": "execute_result"
    }
   ],
   "source": [
    "predict[0:10]"
   ]
  },
  {
   "cell_type": "code",
   "execution_count": 869,
   "id": "9b607765",
   "metadata": {},
   "outputs": [
    {
     "data": {
      "text/plain": [
       "Text(0, 0.5, 'Predicted values')"
      ]
     },
     "execution_count": 869,
     "metadata": {},
     "output_type": "execute_result"
    },
    {
     "data": {
      "image/png": "[encoded data removed]",
      "text/plain": [
       "<Figure size 432x288 with 1 Axes>"
      ]
     },
     "metadata": {
      "needs_background": "light"
     },
     "output_type": "display_data"
    }
   ],
   "source": [
    "plt.scatter(y_test,predict)\n",
    "plt.xlabel(\"Actual Values\")\n",
    "plt.ylabel(\"Predicted values\")"
   ]
  },
  {
   "cell_type": "code",
   "execution_count": 870,
   "id": "86bebf56",
   "metadata": {},
   "outputs": [
    {
     "name": "stdout",
     "output_type": "stream",
     "text": [
      "score 0.7505124274320606\n"
     ]
    }
   ],
   "source": [
    "print(\"score\", lr_model.score(x_test,y_test))"
   ]
  },
  {
   "cell_type": "code",
   "execution_count": 888,
   "id": "ef968823",
   "metadata": {},
   "outputs": [
    {
     "data": {
      "text/plain": [
       "0.7505124274320606"
      ]
     },
     "execution_count": 888,
     "metadata": {},
     "output_type": "execute_result"
    }
   ],
   "source": [
    "from sklearn.metrics import r2_score\n",
    "r2_score(y_test, predict)"
   ]
  },
  {
   "cell_type": "code",
   "execution_count": null,
   "id": "cd721e49",
   "metadata": {},
   "outputs": [],
   "source": []
  },
  {
   "cell_type": "code",
   "execution_count": 889,
   "id": "81ea10e3",
   "metadata": {},
   "outputs": [
    {
     "data": {
      "text/plain": [
       "1777887513.4083395"
      ]
     },
     "execution_count": 889,
     "metadata": {},
     "output_type": "execute_result"
    }
   ],
   "source": [
    "from sklearn.metrics import mean_squared_error\n",
    "mean_squared_error(y_test, predict)"
   ]
  },
  {
   "cell_type": "code",
   "execution_count": 890,
   "id": "8e6a214f",
   "metadata": {},
   "outputs": [
    {
     "data": {
      "text/plain": [
       "29647.04106732699"
      ]
     },
     "execution_count": 890,
     "metadata": {},
     "output_type": "execute_result"
    }
   ],
   "source": [
    "from sklearn.metrics import mean_absolute_error\n",
    "mean_absolute_error(y_test, predict)"
   ]
  },
  {
   "cell_type": "code",
   "execution_count": 891,
   "id": "5848d90c",
   "metadata": {},
   "outputs": [
    {
     "data": {
      "text/plain": [
       "0.7505689122389156"
      ]
     },
     "execution_count": 891,
     "metadata": {},
     "output_type": "execute_result"
    }
   ],
   "source": [
    "from sklearn.metrics import explained_variance_score\n",
    "explained_variance_score(y_test, predict)"
   ]
  },
  {
   "cell_type": "code",
   "execution_count": 886,
   "id": "d4ada745",
   "metadata": {},
   "outputs": [
    {
     "data": {
      "text/plain": [
       "20276.678441502125"
      ]
     },
     "execution_count": 886,
     "metadata": {},
     "output_type": "execute_result"
    }
   ],
   "source": [
    "from sklearn.metrics import median_absolute_error\n",
    "median_absolute_error(y_test, predict)"
   ]
  },
  {
   "cell_type": "code",
   "execution_count": 887,
   "id": "2e62faa9",
   "metadata": {},
   "outputs": [],
   "source": [
    "dataframe2=pd.DataFrame(x_test)"
   ]
  },
  {
   "cell_type": "code",
   "execution_count": 898,
   "id": "d90613b1",
   "metadata": {},
   "outputs": [],
   "source": [
    "dataframe2['Yield_Actual']=y_test"
   ]
  },
  {
   "cell_type": "code",
   "execution_count": 899,
   "id": "f2652f89",
   "metadata": {},
   "outputs": [],
   "source": [
    "dataframe2['Yield_Predicted']=predict"
   ]
  },
  {
   "cell_type": "code",
   "execution_count": 900,
   "id": "b7ac9f0f",
   "metadata": {},
   "outputs": [
    {
     "data": {
      "text/html": [
       "<div>\n",
       "<style scoped>\n",
       "    .dataframe tbody tr th:only-of-type {\n",
       "        vertical-align: middle;\n",
       "    }\n",
       "\n",
       "    .dataframe tbody tr th {\n",
       "        vertical-align: top;\n",
       "    }\n",
       "\n",
       "    .dataframe thead th {\n",
       "        text-align: right;\n",
       "    }\n",
       "</style>\n",
       "<table border=\"1\" class=\"dataframe\">\n",
       "  <thead>\n",
       "    <tr style=\"text-align: right;\">\n",
       "      <th></th>\n",
       "      <th>average_rain_fall_mm_per_year</th>\n",
       "      <th>pesticides_tonnes</th>\n",
       "      <th>avg_temp</th>\n",
       "      <th>Country_Albania</th>\n",
       "      <th>Country_Algeria</th>\n",
       "      <th>Country_Angola</th>\n",
       "      <th>Country_Argentina</th>\n",
       "      <th>Country_Armenia</th>\n",
       "      <th>Country_Australia</th>\n",
       "      <th>Country_Austria</th>\n",
       "      <th>...</th>\n",
       "      <th>Item_Potatoes</th>\n",
       "      <th>Item_Rice, paddy</th>\n",
       "      <th>Item_Sorghum</th>\n",
       "      <th>Item_Soybeans</th>\n",
       "      <th>Item_Sweet potatoes</th>\n",
       "      <th>Item_Wheat</th>\n",
       "      <th>Item_Yams</th>\n",
       "      <th>Yield_Actual</th>\n",
       "      <th>Yield_Prredicted</th>\n",
       "      <th>Yield_Predicted</th>\n",
       "    </tr>\n",
       "  </thead>\n",
       "  <tbody>\n",
       "    <tr>\n",
       "      <th>12425</th>\n",
       "      <td>1083.0</td>\n",
       "      <td>44957.52</td>\n",
       "      <td>24.57</td>\n",
       "      <td>0</td>\n",
       "      <td>0</td>\n",
       "      <td>0</td>\n",
       "      <td>0</td>\n",
       "      <td>0</td>\n",
       "      <td>0</td>\n",
       "      <td>0</td>\n",
       "      <td>...</td>\n",
       "      <td>0</td>\n",
       "      <td>0</td>\n",
       "      <td>0</td>\n",
       "      <td>0</td>\n",
       "      <td>0</td>\n",
       "      <td>1</td>\n",
       "      <td>0</td>\n",
       "      <td>27785</td>\n",
       "      <td>23503.840467</td>\n",
       "      <td>23503.840467</td>\n",
       "    </tr>\n",
       "    <tr>\n",
       "      <th>17641</th>\n",
       "      <td>641.0</td>\n",
       "      <td>294.00</td>\n",
       "      <td>5.87</td>\n",
       "      <td>0</td>\n",
       "      <td>0</td>\n",
       "      <td>0</td>\n",
       "      <td>0</td>\n",
       "      <td>0</td>\n",
       "      <td>0</td>\n",
       "      <td>0</td>\n",
       "      <td>...</td>\n",
       "      <td>1</td>\n",
       "      <td>0</td>\n",
       "      <td>0</td>\n",
       "      <td>0</td>\n",
       "      <td>0</td>\n",
       "      <td>0</td>\n",
       "      <td>0</td>\n",
       "      <td>129963</td>\n",
       "      <td>177231.263375</td>\n",
       "      <td>177231.263375</td>\n",
       "    </tr>\n",
       "    <tr>\n",
       "      <th>15330</th>\n",
       "      <td>2702.0</td>\n",
       "      <td>1597.00</td>\n",
       "      <td>25.59</td>\n",
       "      <td>0</td>\n",
       "      <td>0</td>\n",
       "      <td>0</td>\n",
       "      <td>0</td>\n",
       "      <td>0</td>\n",
       "      <td>0</td>\n",
       "      <td>0</td>\n",
       "      <td>...</td>\n",
       "      <td>0</td>\n",
       "      <td>1</td>\n",
       "      <td>0</td>\n",
       "      <td>0</td>\n",
       "      <td>0</td>\n",
       "      <td>0</td>\n",
       "      <td>0</td>\n",
       "      <td>51360</td>\n",
       "      <td>30405.690975</td>\n",
       "      <td>30405.690975</td>\n",
       "    </tr>\n",
       "    <tr>\n",
       "      <th>26589</th>\n",
       "      <td>593.0</td>\n",
       "      <td>27110.00</td>\n",
       "      <td>13.01</td>\n",
       "      <td>0</td>\n",
       "      <td>0</td>\n",
       "      <td>0</td>\n",
       "      <td>0</td>\n",
       "      <td>0</td>\n",
       "      <td>0</td>\n",
       "      <td>0</td>\n",
       "      <td>...</td>\n",
       "      <td>1</td>\n",
       "      <td>0</td>\n",
       "      <td>0</td>\n",
       "      <td>0</td>\n",
       "      <td>0</td>\n",
       "      <td>0</td>\n",
       "      <td>0</td>\n",
       "      <td>236046</td>\n",
       "      <td>218259.891353</td>\n",
       "      <td>218259.891353</td>\n",
       "    </tr>\n",
       "    <tr>\n",
       "      <th>1535</th>\n",
       "      <td>534.0</td>\n",
       "      <td>42935.38</td>\n",
       "      <td>19.79</td>\n",
       "      <td>0</td>\n",
       "      <td>0</td>\n",
       "      <td>0</td>\n",
       "      <td>0</td>\n",
       "      <td>0</td>\n",
       "      <td>1</td>\n",
       "      <td>0</td>\n",
       "      <td>...</td>\n",
       "      <td>0</td>\n",
       "      <td>1</td>\n",
       "      <td>0</td>\n",
       "      <td>0</td>\n",
       "      <td>0</td>\n",
       "      <td>0</td>\n",
       "      <td>0</td>\n",
       "      <td>75988</td>\n",
       "      <td>94304.668024</td>\n",
       "      <td>94304.668024</td>\n",
       "    </tr>\n",
       "    <tr>\n",
       "      <th>23761</th>\n",
       "      <td>74.0</td>\n",
       "      <td>6.00</td>\n",
       "      <td>27.66</td>\n",
       "      <td>0</td>\n",
       "      <td>0</td>\n",
       "      <td>0</td>\n",
       "      <td>0</td>\n",
       "      <td>0</td>\n",
       "      <td>0</td>\n",
       "      <td>0</td>\n",
       "      <td>...</td>\n",
       "      <td>0</td>\n",
       "      <td>0</td>\n",
       "      <td>0</td>\n",
       "      <td>0</td>\n",
       "      <td>0</td>\n",
       "      <td>1</td>\n",
       "      <td>0</td>\n",
       "      <td>22881</td>\n",
       "      <td>26051.229749</td>\n",
       "      <td>26051.229749</td>\n",
       "    </tr>\n",
       "  </tbody>\n",
       "</table>\n",
       "<p>6 rows × 117 columns</p>\n",
       "</div>"
      ],
      "text/plain": [
       "       average_rain_fall_mm_per_year  pesticides_tonnes  avg_temp  \\\n",
       "12425                         1083.0           44957.52     24.57   \n",
       "17641                          641.0             294.00      5.87   \n",
       "15330                         2702.0            1597.00     25.59   \n",
       "26589                          593.0           27110.00     13.01   \n",
       "1535                           534.0           42935.38     19.79   \n",
       "23761                           74.0               6.00     27.66   \n",
       "\n",
       "       Country_Albania  Country_Algeria  Country_Angola  Country_Argentina  \\\n",
       "12425                0                0               0                  0   \n",
       "17641                0                0               0                  0   \n",
       "15330                0                0               0                  0   \n",
       "26589                0                0               0                  0   \n",
       "1535                 0                0               0                  0   \n",
       "23761                0                0               0                  0   \n",
       "\n",
       "       Country_Armenia  Country_Australia  Country_Austria  ...  \\\n",
       "12425                0                  0                0  ...   \n",
       "17641                0                  0                0  ...   \n",
       "15330                0                  0                0  ...   \n",
       "26589                0                  0                0  ...   \n",
       "1535                 0                  1                0  ...   \n",
       "23761                0                  0                0  ...   \n",
       "\n",
       "       Item_Potatoes  Item_Rice, paddy  Item_Sorghum  Item_Soybeans  \\\n",
       "12425              0                 0             0              0   \n",
       "17641              1                 0             0              0   \n",
       "15330              0                 1             0              0   \n",
       "26589              1                 0             0              0   \n",
       "1535               0                 1             0              0   \n",
       "23761              0                 0             0              0   \n",
       "\n",
       "       Item_Sweet potatoes  Item_Wheat  Item_Yams  Yield_Actual  \\\n",
       "12425                    0           1          0         27785   \n",
       "17641                    0           0          0        129963   \n",
       "15330                    0           0          0         51360   \n",
       "26589                    0           0          0        236046   \n",
       "1535                     0           0          0         75988   \n",
       "23761                    0           1          0         22881   \n",
       "\n",
       "       Yield_Prredicted  Yield_Predicted  \n",
       "12425      23503.840467     23503.840467  \n",
       "17641     177231.263375    177231.263375  \n",
       "15330      30405.690975     30405.690975  \n",
       "26589     218259.891353    218259.891353  \n",
       "1535       94304.668024     94304.668024  \n",
       "23761      26051.229749     26051.229749  \n",
       "\n",
       "[6 rows x 117 columns]"
      ]
     },
     "execution_count": 900,
     "metadata": {},
     "output_type": "execute_result"
    }
   ],
   "source": [
    "dataframe2.head(n=6)"
   ]
  },
  {
   "cell_type": "code",
   "execution_count": 901,
   "id": "691ed370",
   "metadata": {},
   "outputs": [],
   "source": [
    "from sklearn.metrics import mean_squared_error\n",
    "mse = mean_squared_error(dataframe2['Yield_Actual'], dataframe2['Yield_Predicted'])"
   ]
  },
  {
   "cell_type": "code",
   "execution_count": 902,
   "id": "04dab23b",
   "metadata": {},
   "outputs": [],
   "source": [
    "dataframe2.to_csv(r'E:\\MS CS spring 2022\\CS 57300\\project\\results2.csv')"
   ]
  },
  {
   "cell_type": "code",
   "execution_count": 903,
   "id": "aba24ad4",
   "metadata": {},
   "outputs": [
    {
     "data": {
      "text/plain": [
       "1777887513.4083395"
      ]
     },
     "execution_count": 903,
     "metadata": {},
     "output_type": "execute_result"
    }
   ],
   "source": [
    "mse"
   ]
  },
  {
   "cell_type": "code",
   "execution_count": null,
   "id": "193be576",
   "metadata": {},
   "outputs": [],
   "source": []
  }
 ],
 "metadata": {
  "kernelspec": {
   "display_name": "Python 3 (ipykernel)",
   "language": "python",
   "name": "python3"
  },
  "language_info": {
   "codemirror_mode": {
    "name": "ipython",
    "version": 3
   },
   "file_extension": ".py",
   "mimetype": "text/x-python",
   "name": "python",
   "nbconvert_exporter": "python",
   "pygments_lexer": "ipython3",
   "version": "3.9.7"
  }
 },
 "nbformat": 4,
 "nbformat_minor": 5
}
